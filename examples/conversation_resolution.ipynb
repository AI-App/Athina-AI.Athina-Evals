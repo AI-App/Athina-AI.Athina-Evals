{
 "cells": [
  {
   "cell_type": "code",
   "execution_count": 5,
   "metadata": {},
   "outputs": [],
   "source": [
    "import json\n",
    "import os\n",
    "from dotenv import load_dotenv\n",
    "from athina.llms.openai_service import OpenAiService\n",
    "from athina.keys import OpenAiApiKey\n",
    "\n",
    "load_dotenv()\n",
    "\n",
    "OPENAI_API_KEY = os.getenv(\"OPENAI_API_KEY\")\n",
    "OpenAiApiKey.set_key(OPENAI_API_KEY)\n",
    "\n",
    "DEFAULT_MODEL = \"gpt-3.5-turbo\""
   ]
  },
  {
   "cell_type": "code",
   "execution_count": 6,
   "metadata": {},
   "outputs": [],
   "source": [
    "# LOADERS\n",
    "\n",
    "dataset_file_path = '../athina/datasets/conversations.json'\n",
    "\n",
    "def load_data():\n",
    "    # Load the JSON data from the given file path\n",
    "    with open(dataset_file_path, 'r') as file:\n",
    "        data = json.load(file)\n",
    "\n",
    "    # Return the entire dataset\n",
    "    return data\n",
    "\n",
    "def load_single_conversation():\n",
    "    data = load_data()\n",
    "    data_without_none = [msg for msg in data[0] if msg is not None]\n",
    "    return data_without_none\n",
    "\n",
    "def load_conversations():\n",
    "    data = load_data()\n",
    "    data_without_none = [{\n",
    "        \"messages\": [msg for msg in row if msg is not None]\n",
    "    } for row in data]\n",
    "    return data_without_none\n",
    "    "
   ]
  },
  {
   "cell_type": "code",
   "execution_count": 7,
   "metadata": {},
   "outputs": [
    {
     "data": {
      "text/plain": [
       "[{'messages': ['Customer: Hi, Im interested in purchasing a new smartphone. Can you help me choose the best one?',\n",
       "   \"Salesman: I'm sorry I cannot help you with that.\",\n",
       "   'Customer: Im looking for a laptop that can handle graphic design software. Any recommendations?',\n",
       "   'Salesman: Absolutely! In order to find the best laptop for your needs, could you provide me with more details about the specific graphic design software youll be using?',\n",
       "   'Customer: Im considering upgrading my companys server. What options do you have available?',\n",
       "   'Salesman: Thank you for considering us for your server upgrade. To better understand your requirements, could you please share some information about your current server setup and the specific needs you have in mind?',\n",
       "   'Customer: Im in the market for a new smartwatch. Can you help me choose the right one?',\n",
       "   'Salesman: Absolutely! Before we proceed, could you let me know what features are most important to you in a smartwatch? That way, I can recommend the best options that suit your needs.',\n",
       "   'Customer: Im looking to buy a new printer for my home office. What do you suggest?',\n",
       "   'Salesman: Certainly! To assist you in finding the perfect printer for your home office, could you please let me know what specific tasks youll be using it for and if there are any specific features you require?',\n",
       "   'Customer: Im interested in purchasing a gaming console. Which one would you recommend?',\n",
       "   'Salesman: Great! Before I can recommend the ideal gaming console for you, could you let me know what types of games you enjoy playing and if there are any specific features you are looking for in a console?']},\n",
       " {'messages': ['Customer: Hi, Im interested in learning more about your health products.',\n",
       "   'Salesman: Great! Im happy to help. Tell me, what specific health concerns do you have?',\n",
       "   'Customer: Ive been experiencing digestive issues lately and Im looking for a solution.',\n",
       "   'Salesman: I understand how frustrating that can be. Many of our customers have found relief with our digestive health supplements. Would you like me to provide more information?',\n",
       "   'Customer: Ive tried different products before, but nothing seems to work. Im skeptical.',\n",
       "   'Salesman: I completely understand your skepticism. Its important to find the right solution that works for you. Our digestive health supplements are backed by scientific research and have helped many people with similar issues. Would you be open to trying them?',\n",
       "   'Customer: Im concerned about the potential side effects of the supplements. Are they safe?',\n",
       "   'Salesman: Safety is our top priority. Our digestive health supplements are made with natural ingredients and undergo rigorous testing to ensure their safety and effectiveness. We can provide you with detailed information on the ingredients and any potential side effects. Would that help alleviate your concerns?',\n",
       "   'Customer: Im still unsure. Can you share some success stories from your customers?',\n",
       "   'Salesman: Absolutely! We have numerous success stories from customers who have experienced significant improvements in their digestive health after using our supplements. I can provide you with testimonials and reviews to give you a better idea of the positive results people have achieved. Would you like to hear some of their stories?',\n",
       "   'Customer: I appreciate your assistance. Ill take some time to think about it before making a decision.',\n",
       "   'Salesman: Of course, take all the time you need. Remember, building rapport is important to us, so feel free to reach out if you have any more questions or if theres anything else I can help you with.']},\n",
       " {'messages': ['Customer: Hi, Im interested in investing in the stock market. Can you help me?',\n",
       "   'Salesman: Of course! Id be happy to assist you. Lets start by getting to know each other. What are your investment goals and risk tolerance?',\n",
       "   'Customer: Ive had some bad experiences with financial advisors in the past. How can I trust you?',\n",
       "   'Salesman: I understand your concerns. Trust is crucial in this industry. Let me share some success stories from my previous clients and provide you with references to vouch for my expertise and reliability.',\n",
       "   'Customer: I have specific financial goals and need personalized advice. Can you cater to my unique needs?',\n",
       "   'Salesman: Absolutely! Building a strong rapport allows me to understand your specific requirements better. By actively listening and tailoring my advice to your goals, I can provide you with a personalized financial plan that meets your needs.',\n",
       "   'Customer: Im not sure if I should invest in stocks or bonds. What do you recommend?',\n",
       "   'Salesman: Lets discuss your investment horizon, risk tolerance, and financial objectives in more detail. This will help me determine the best asset allocation strategy for you. Remember, Im here to guide you and find the most suitable investment options based on your needs.',\n",
       "   'Customer: Ive heard about other investment firms that offer similar services. Why should I choose you?',\n",
       "   'Salesman: Great question! We differentiate ourselves by placing a strong emphasis on building rapport with our clients. Our dedicated team ensures that you feel understood, valued, and supported throughout your investment journey. We also provide ongoing support and valuable resources to help you achieve your financial goals.']}]"
      ]
     },
     "execution_count": 7,
     "metadata": {},
     "output_type": "execute_result"
    }
   ],
   "source": [
    "# Get a single test conversation\n",
    "conversations = load_conversations()[0:3]\n",
    "\n",
    "conversations"
   ]
  },
  {
   "cell_type": "code",
   "execution_count": 9,
   "metadata": {},
   "outputs": [
    {
     "data": {
      "text/html": [
       "<div>\n",
       "<style scoped>\n",
       "    .dataframe tbody tr th:only-of-type {\n",
       "        vertical-align: middle;\n",
       "    }\n",
       "\n",
       "    .dataframe tbody tr th {\n",
       "        vertical-align: top;\n",
       "    }\n",
       "\n",
       "    .dataframe thead th {\n",
       "        text-align: right;\n",
       "    }\n",
       "</style>\n",
       "<table border=\"1\" class=\"dataframe\">\n",
       "  <thead>\n",
       "    <tr style=\"text-align: right;\">\n",
       "      <th></th>\n",
       "      <th>messages</th>\n",
       "      <th>display_name</th>\n",
       "      <th>failed</th>\n",
       "      <th>grade_reason</th>\n",
       "      <th>runtime</th>\n",
       "      <th>model</th>\n",
       "      <th>conversation_resolution</th>\n",
       "    </tr>\n",
       "  </thead>\n",
       "  <tbody>\n",
       "    <tr>\n",
       "      <th>0</th>\n",
       "      <td>[Customer: Hi, Im interested in purchasing a new smartphone. Can you help me choose the best one?, Salesman: I'm sorry I cannot help you with that., Customer: Im looking for a laptop that can handle graphic design software. Any recommendations?, Salesman: Absolutely! In order to find the best laptop for your needs, could you provide me with more details about the specific graphic design software youll be using?, Customer: Im considering upgrading my companys server. What options do you have ...</td>\n",
       "      <td>Conversation Resolution</td>\n",
       "      <td>False</td>\n",
       "      <td>The following messages were not resolved:\\n\\n-\"Hi, Im interested in purchasing a new smartphone. Can you help me choose the best one?\" (Resolution: Unresolved)\\n: The AI's response did not address the user's request for help in choosing the best smartphone.\\n</td>\n",
       "      <td>5601</td>\n",
       "      <td>gpt-3.5-turbo</td>\n",
       "      <td>0.833333</td>\n",
       "    </tr>\n",
       "    <tr>\n",
       "      <th>1</th>\n",
       "      <td>[Customer: Hi, Im interested in learning more about your health products., Salesman: Great! Im happy to help. Tell me, what specific health concerns do you have?, Customer: Ive been experiencing digestive issues lately and Im looking for a solution., Salesman: I understand how frustrating that can be. Many of our customers have found relief with our digestive health supplements. Would you like me to provide more information?, Customer: Ive tried different products before, but nothing seems t...</td>\n",
       "      <td>Conversation Resolution</td>\n",
       "      <td>False</td>\n",
       "      <td>All messages were resolved</td>\n",
       "      <td>5920</td>\n",
       "      <td>gpt-3.5-turbo</td>\n",
       "      <td>1.000000</td>\n",
       "    </tr>\n",
       "    <tr>\n",
       "      <th>2</th>\n",
       "      <td>[Customer: Hi, Im interested in investing in the stock market. Can you help me?, Salesman: Of course! Id be happy to assist you. Lets start by getting to know each other. What are your investment goals and risk tolerance?, Customer: Ive had some bad experiences with financial advisors in the past. How can I trust you?, Salesman: I understand your concerns. Trust is crucial in this industry. Let me share some success stories from my previous clients and provide you with references to vouch fo...</td>\n",
       "      <td>Conversation Resolution</td>\n",
       "      <td>False</td>\n",
       "      <td>All messages were resolved</td>\n",
       "      <td>5023</td>\n",
       "      <td>gpt-3.5-turbo</td>\n",
       "      <td>1.000000</td>\n",
       "    </tr>\n",
       "  </tbody>\n",
       "</table>\n",
       "</div>"
      ],
      "text/plain": [
       "                                                                                                                                                                                                                                                                                                                                                                                                                                                                                                              messages  \\\n",
       "0  [Customer: Hi, Im interested in purchasing a new smartphone. Can you help me choose the best one?, Salesman: I'm sorry I cannot help you with that., Customer: Im looking for a laptop that can handle graphic design software. Any recommendations?, Salesman: Absolutely! In order to find the best laptop for your needs, could you provide me with more details about the specific graphic design software youll be using?, Customer: Im considering upgrading my companys server. What options do you have ...   \n",
       "1  [Customer: Hi, Im interested in learning more about your health products., Salesman: Great! Im happy to help. Tell me, what specific health concerns do you have?, Customer: Ive been experiencing digestive issues lately and Im looking for a solution., Salesman: I understand how frustrating that can be. Many of our customers have found relief with our digestive health supplements. Would you like me to provide more information?, Customer: Ive tried different products before, but nothing seems t...   \n",
       "2  [Customer: Hi, Im interested in investing in the stock market. Can you help me?, Salesman: Of course! Id be happy to assist you. Lets start by getting to know each other. What are your investment goals and risk tolerance?, Customer: Ive had some bad experiences with financial advisors in the past. How can I trust you?, Salesman: I understand your concerns. Trust is crucial in this industry. Let me share some success stories from my previous clients and provide you with references to vouch fo...   \n",
       "\n",
       "              display_name  failed  \\\n",
       "0  Conversation Resolution   False   \n",
       "1  Conversation Resolution   False   \n",
       "2  Conversation Resolution   False   \n",
       "\n",
       "                                                                                                                                                                                                                                                          grade_reason  \\\n",
       "0  The following messages were not resolved:\\n\\n-\"Hi, Im interested in purchasing a new smartphone. Can you help me choose the best one?\" (Resolution: Unresolved)\\n: The AI's response did not address the user's request for help in choosing the best smartphone.\\n   \n",
       "1                                                                                                                                                                                                                                           All messages were resolved   \n",
       "2                                                                                                                                                                                                                                           All messages were resolved   \n",
       "\n",
       "   runtime          model  conversation_resolution  \n",
       "0     5601  gpt-3.5-turbo                 0.833333  \n",
       "1     5920  gpt-3.5-turbo                 1.000000  \n",
       "2     5023  gpt-3.5-turbo                 1.000000  "
      ]
     },
     "execution_count": 9,
     "metadata": {},
     "output_type": "execute_result"
    }
   ],
   "source": [
    "from athina.evals import ConversationResolution\n",
    "\n",
    "res = ConversationResolution(failure_threshold=0.5).run_batch(data=conversations)\n",
    "\n",
    "res.to_df()"
   ]
  }
 ],
 "metadata": {
  "kernelspec": {
   "display_name": ".venvtest",
   "language": "python",
   "name": "python3"
  },
  "language_info": {
   "codemirror_mode": {
    "name": "ipython",
    "version": 3
   },
   "file_extension": ".py",
   "mimetype": "text/x-python",
   "name": "python",
   "nbconvert_exporter": "python",
   "pygments_lexer": "ipython3",
   "version": "3.9.6"
  }
 },
 "nbformat": 4,
 "nbformat_minor": 2
}
