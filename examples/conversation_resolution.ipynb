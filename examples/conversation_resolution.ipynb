{
 "cells": [
  {
   "cell_type": "code",
   "execution_count": null,
   "metadata": {},
   "outputs": [],
   "source": [
    "import json\n",
    "import os\n",
    "from dotenv import load_dotenv\n",
    "from athina.llms.openai_service import OpenAiService\n",
    "from athina.keys import OpenAiApiKey\n",
    "\n",
    "load_dotenv()\n",
    "\n",
    "OPENAI_API_KEY = os.getenv(\"OPENAI_API_KEY\")\n",
    "OpenAiApiKey.set_key(OPENAI_API_KEY)\n",
    "\n",
    "DEFAULT_MODEL = \"gpt-3.5-turbo\""
   ]
  },
  {
   "cell_type": "code",
   "execution_count": null,
   "metadata": {},
   "outputs": [],
   "source": [
    "# LOADERS\n",
    "\n",
    "dataset_file_path = '../athina/datasets/conversations.json'\n",
    "\n",
    "def load_data():\n",
    "    # Load the JSON data from the given file path\n",
    "    with open(dataset_file_path, 'r') as file:\n",
    "        data = json.load(file)\n",
    "\n",
    "    # Return the entire dataset\n",
    "    return data\n",
    "\n",
    "def load_single_conversation():\n",
    "    data = load_data()\n",
    "    data_without_none = [msg for msg in data[0] if msg is not None]\n",
    "    return data_without_none\n",
    "\n",
    "def load_conversations():\n",
    "    data = load_data()\n",
    "    data_without_none = [{\n",
    "        \"conversation_messages\": [msg for msg in row if msg is not None]\n",
    "    } for row in data]\n",
    "    return data_without_none\n",
    "    "
   ]
  },
  {
   "cell_type": "code",
   "execution_count": null,
   "metadata": {},
   "outputs": [],
   "source": [
    "# Get a single test conversation\n",
    "conversations = load_conversations()[0:3]\n",
    "\n",
    "conversations"
   ]
  },
  {
   "cell_type": "code",
   "execution_count": null,
   "metadata": {},
   "outputs": [],
   "source": [
    "from athina.evals import ConversationResolution\n",
    "\n",
    "res = ConversationResolution().run_batch(data=conversations)\n",
    "\n",
    "res.to_df()"
   ]
  },
  {
   "cell_type": "code",
   "execution_count": null,
   "metadata": {},
   "outputs": [],
   "source": [
    "res.to_df()"
   ]
  }
 ],
 "metadata": {
  "kernelspec": {
   "display_name": ".venvtest",
   "language": "python",
   "name": "python3"
  },
  "language_info": {
   "codemirror_mode": {
    "name": "ipython",
    "version": 3
   },
   "file_extension": ".py",
   "mimetype": "text/x-python",
   "name": "python",
   "nbconvert_exporter": "python",
   "pygments_lexer": "ipython3",
   "version": "3.9.16"
  }
 },
 "nbformat": 4,
 "nbformat_minor": 2
}
