{
 "cells": [
  {
   "cell_type": "markdown",
   "metadata": {},
   "source": [
    "## Custom Grading Criteria\n",
    "\n",
    "A custom grading criteria is the easiest way to create your own eval.\n",
    "\n",
    "These evals take the format: \n",
    "_\"If X, then fail. Otherwise, pass\"_\n",
    "\n",
    "This gets wrapped inside our CoT prompt, and enforces a JSON output of pass / fail along with a reason.\n",
    "\n",
    "This is best used for very simple conditional evals (like the one below)"
   ]
  },
  {
   "cell_type": "code",
   "execution_count": 1,
   "metadata": {},
   "outputs": [],
   "source": [
    "import os\n",
    "from athina.evals import CustomGrader\n",
    "from athina.loaders import ResponseLoader\n",
    "from athina.keys import OpenAiApiKey, AthinaApiKey\n",
    "import pandas as pd\n",
    "\n",
    "OpenAiApiKey.set_key(os.getenv('OPENAI_API_KEY'))\n",
    "AthinaApiKey.set_key(os.getenv('ATHINA_API_KEY'))"
   ]
  },
  {
   "cell_type": "markdown",
   "metadata": {},
   "source": [
    "### Initialize your dataset\n",
    "\n",
    "The [`ResponseLoader`](https://github.com/athina-ai/athina-evals/blob/main/athina/loaders/response_loader.py) class is used to load your dataset. \n",
    "\n",
    "This loader ensures that the data contains a \"response\" field and is in the correct format for the `LlmEvaluator` class."
   ]
  },
  {
   "cell_type": "code",
   "execution_count": 2,
   "metadata": {},
   "outputs": [
    {
     "data": {
      "text/html": [
       "<div>\n",
       "<style scoped>\n",
       "    .dataframe tbody tr th:only-of-type {\n",
       "        vertical-align: middle;\n",
       "    }\n",
       "\n",
       "    .dataframe tbody tr th {\n",
       "        vertical-align: top;\n",
       "    }\n",
       "\n",
       "    .dataframe thead th {\n",
       "        text-align: right;\n",
       "    }\n",
       "</style>\n",
       "<table border=\"1\" class=\"dataframe\">\n",
       "  <thead>\n",
       "    <tr style=\"text-align: right;\">\n",
       "      <th></th>\n",
       "      <th>response</th>\n",
       "    </tr>\n",
       "  </thead>\n",
       "  <tbody>\n",
       "    <tr>\n",
       "      <th>0</th>\n",
       "      <td>I'm sorry but I can't help you with that query</td>\n",
       "    </tr>\n",
       "    <tr>\n",
       "      <th>1</th>\n",
       "      <td>I don't know the answer to that question</td>\n",
       "    </tr>\n",
       "  </tbody>\n",
       "</table>\n",
       "</div>"
      ],
      "text/plain": [
       "                                         response\n",
       "0  I'm sorry but I can't help you with that query\n",
       "1        I don't know the answer to that question"
      ]
     },
     "execution_count": 2,
     "metadata": {},
     "output_type": "execute_result"
    }
   ],
   "source": [
    "# Create batch dataset from list of dict objects\n",
    "raw_data = [\n",
    "    {\n",
    "        \"response\": \"I'm sorry but I can't help you with that query\",\n",
    "    },\n",
    "    {\n",
    "        \"response\": \"I don't know the answer to that question\",\n",
    "    },\n",
    "]\n",
    "\n",
    "dataset = ResponseLoader().load_dict(raw_data)\n",
    "pd.DataFrame(dataset)"
   ]
  },
  {
   "cell_type": "markdown",
   "metadata": {},
   "source": [
    "### Configure and Run Evaluator\n",
    "\n",
    "The easiest way to configure a custom evaluator is to use our [`CustomGrader`](https://github.com/athina-ai/athina-evals/blob/main/athina/evals/llm/custom_grader/evaluator.py) class.\n",
    "\n",
    "This evaluator simply takes in a grading criteria in the following format:\n",
    "\n",
    "```\n",
    "If X, then fail. Otherwise, pass.\n",
    "```\n",
    "\n",
    "Optionally, you can also specify what model you would like to use for grading."
   ]
  },
  {
   "cell_type": "code",
   "execution_count": 3,
   "metadata": {},
   "outputs": [
    {
     "data": {
      "text/html": [
       "<div>\n",
       "<style scoped>\n",
       "    .dataframe tbody tr th:only-of-type {\n",
       "        vertical-align: middle;\n",
       "    }\n",
       "\n",
       "    .dataframe tbody tr th {\n",
       "        vertical-align: top;\n",
       "    }\n",
       "\n",
       "    .dataframe thead th {\n",
       "        text-align: right;\n",
       "    }\n",
       "</style>\n",
       "<table border=\"1\" class=\"dataframe\">\n",
       "  <thead>\n",
       "    <tr style=\"text-align: right;\">\n",
       "      <th></th>\n",
       "      <th>response</th>\n",
       "      <th>display_name</th>\n",
       "      <th>failed</th>\n",
       "      <th>grade_reason</th>\n",
       "      <th>runtime</th>\n",
       "      <th>model</th>\n",
       "      <th>metric_id</th>\n",
       "      <th>metric_value</th>\n",
       "    </tr>\n",
       "  </thead>\n",
       "  <tbody>\n",
       "    <tr>\n",
       "      <th>0</th>\n",
       "      <td>I'm sorry but I can't help you with that query</td>\n",
       "      <td>Custom</td>\n",
       "      <td>True</td>\n",
       "      <td>The response says it cannot answer the query.</td>\n",
       "      <td>1824</td>\n",
       "      <td>gpt-3.5-turbo</td>\n",
       "      <td>failed</td>\n",
       "      <td>1.0</td>\n",
       "    </tr>\n",
       "    <tr>\n",
       "      <th>1</th>\n",
       "      <td>I don't know the answer to that question</td>\n",
       "      <td>Custom</td>\n",
       "      <td>True</td>\n",
       "      <td>The response says it cannot answer the query.</td>\n",
       "      <td>1173</td>\n",
       "      <td>gpt-3.5-turbo</td>\n",
       "      <td>failed</td>\n",
       "      <td>1.0</td>\n",
       "    </tr>\n",
       "  </tbody>\n",
       "</table>\n",
       "</div>"
      ],
      "text/plain": [
       "                                         response display_name  failed  \\\n",
       "0  I'm sorry but I can't help you with that query       Custom    True   \n",
       "1        I don't know the answer to that question       Custom    True   \n",
       "\n",
       "                                    grade_reason  runtime          model  \\\n",
       "0  The response says it cannot answer the query.     1824  gpt-3.5-turbo   \n",
       "1  The response says it cannot answer the query.     1173  gpt-3.5-turbo   \n",
       "\n",
       "  metric_id  metric_value  \n",
       "0    failed           1.0  \n",
       "1    failed           1.0  "
      ]
     },
     "execution_count": 3,
     "metadata": {},
     "output_type": "execute_result"
    }
   ],
   "source": [
    "# Checks if the LLM response answers the user query sufficiently\n",
    "eval_model = \"gpt-3.5-turbo\"\n",
    "\n",
    "grading_criteria = \"If the response says it cannot answer the query, then fail. Otherwise pass.\"\n",
    "\n",
    "CustomGrader(\n",
    "    model=eval_model,\n",
    "    grading_criteria=grading_criteria\n",
    ").run_batch(data=dataset, max_parallel_evals=2).to_df()"
   ]
  }
 ],
 "metadata": {
  "kernelspec": {
   "display_name": ".venv",
   "language": "python",
   "name": "python3"
  },
  "language_info": {
   "codemirror_mode": {
    "name": "ipython",
    "version": 3
   },
   "file_extension": ".py",
   "mimetype": "text/x-python",
   "name": "python",
   "nbconvert_exporter": "python",
   "pygments_lexer": "ipython3",
   "version": "3.9.16"
  }
 },
 "nbformat": 4,
 "nbformat_minor": 2
}
