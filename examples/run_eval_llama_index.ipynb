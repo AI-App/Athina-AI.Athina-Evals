{
 "cells": [
  {
   "cell_type": "code",
   "execution_count": 1,
   "metadata": {},
   "outputs": [
    {
     "name": "stderr",
     "output_type": "stream",
     "text": [
      "/Users/shivsakhuja/dev/athina/athina-evals/.venvtest/lib/python3.9/site-packages/tqdm/auto.py:21: TqdmWarning: IProgress not found. Please update jupyter and ipywidgets. See https://ipywidgets.readthedocs.io/en/stable/user_install.html\n",
      "  from .autonotebook import tqdm as notebook_tqdm\n"
     ]
    }
   ],
   "source": [
    "import os\n",
    "from athina.evals import (\n",
    "    RagasContextRelevancy,\n",
    "    RagasAnswerRelevancy,\n",
    "    RagasFaithfulness,\n",
    "    RagasAnswerCorrectness,\n",
    ")\n",
    "from athina.runner.run import EvalRunner\n",
    "from athina.loaders import RagasLoader\n",
    "from athina.keys import AthinaApiKey, OpenAiApiKey\n",
    "from llama_index import VectorStoreIndex, ServiceContext\n",
    "from llama_index import download_loader\n",
    "import pandas as pd\n",
    "from dotenv import load_dotenv\n",
    "\n",
    "load_dotenv()\n",
    "\n",
    "OpenAiApiKey.set_key(os.getenv('OPENAI_API_KEY'))\n",
    "AthinaApiKey.set_key(os.getenv('ATHINA_API_KEY'))"
   ]
  },
  {
   "cell_type": "code",
   "execution_count": 2,
   "metadata": {},
   "outputs": [],
   "source": [
    "# create a llamaindex query engine\n",
    "WikipediaReader = download_loader(\"WikipediaReader\")\n",
    "loader = WikipediaReader()\n",
    "documents = loader.load_data(pages=['Y Combinator'])\n",
    "vector_index = VectorStoreIndex.from_documents(\n",
    "    documents, service_context=ServiceContext.from_defaults(chunk_size=512)\n",
    ")\n",
    "\n",
    "query_engine = vector_index.as_query_engine()"
   ]
  },
  {
   "cell_type": "code",
   "execution_count": 3,
   "metadata": {},
   "outputs": [],
   "source": [
    "raw_data_llama_index = [\n",
    "    {\n",
    "        \"query\": \"How much equity does YC take?\",\n",
    "        \"expected_response\": \"YC invests $500k in exchange for 7 percent equity.\"\n",
    "    },\n",
    "    {\n",
    "        \"query\": \"Who founded YC?\",\n",
    "        \"expected_response\": \"YC was founded by Paul Graham, Jessica Livingston, Robert Tappan Morris, and Trevor Blackwell.\"\n",
    "    },\n",
    "]"
   ]
  },
  {
   "cell_type": "code",
   "execution_count": 4,
   "metadata": {},
   "outputs": [
    {
     "data": {
      "text/html": [
       "<div>\n",
       "<style scoped>\n",
       "    .dataframe tbody tr th:only-of-type {\n",
       "        vertical-align: middle;\n",
       "    }\n",
       "\n",
       "    .dataframe tbody tr th {\n",
       "        vertical-align: top;\n",
       "    }\n",
       "\n",
       "    .dataframe thead th {\n",
       "        text-align: right;\n",
       "    }\n",
       "</style>\n",
       "<table border=\"1\" class=\"dataframe\">\n",
       "  <thead>\n",
       "    <tr style=\"text-align: right;\">\n",
       "      <th></th>\n",
       "      <th>query</th>\n",
       "      <th>contexts</th>\n",
       "      <th>response</th>\n",
       "      <th>expected_response</th>\n",
       "    </tr>\n",
       "  </thead>\n",
       "  <tbody>\n",
       "    <tr>\n",
       "      <th>0</th>\n",
       "      <td>How much equity does YC take?</td>\n",
       "      <td>[Tan's leadership marked the discontinuation o...</td>\n",
       "      <td>YC takes a 7% equity stake in companies that p...</td>\n",
       "      <td>YC invests $500k in exchange for 7 percent equ...</td>\n",
       "    </tr>\n",
       "    <tr>\n",
       "      <th>1</th>\n",
       "      <td>Who founded YC?</td>\n",
       "      <td>[Y Combinator Management, LLC (YC) is an Ameri...</td>\n",
       "      <td>Paul Graham, Jessica Livingston, Robert Tappan...</td>\n",
       "      <td>YC was founded by Paul Graham, Jessica Livings...</td>\n",
       "    </tr>\n",
       "  </tbody>\n",
       "</table>\n",
       "</div>"
      ],
      "text/plain": [
       "                           query  \\\n",
       "0  How much equity does YC take?   \n",
       "1                Who founded YC?   \n",
       "\n",
       "                                            contexts  \\\n",
       "0  [Tan's leadership marked the discontinuation o...   \n",
       "1  [Y Combinator Management, LLC (YC) is an Ameri...   \n",
       "\n",
       "                                            response  \\\n",
       "0  YC takes a 7% equity stake in companies that p...   \n",
       "1  Paul Graham, Jessica Livingston, Robert Tappan...   \n",
       "\n",
       "                                   expected_response  \n",
       "0  YC invests $500k in exchange for 7 percent equ...  \n",
       "1  YC was founded by Paul Graham, Jessica Livings...  "
      ]
     },
     "execution_count": 4,
     "metadata": {},
     "output_type": "execute_result"
    }
   ],
   "source": [
    "llama_index_dataset = RagasLoader(query_engine=query_engine).load_dict(raw_data_llama_index)\n",
    "pd.DataFrame(llama_index_dataset)"
   ]
  },
  {
   "cell_type": "code",
   "execution_count": 5,
   "metadata": {},
   "outputs": [
    {
     "name": "stdout",
     "output_type": "stream",
     "text": [
      "Running RagasAnswerCorrectness evaluator\n",
      "evaluating with [answer_correctness]\n"
     ]
    },
    {
     "name": "stderr",
     "output_type": "stream",
     "text": [
      "100%|██████████| 1/1 [00:03<00:00,  3.90s/it]\n"
     ]
    },
    {
     "name": "stdout",
     "output_type": "stream",
     "text": [
      "evaluating with [answer_correctness]\n"
     ]
    },
    {
     "name": "stderr",
     "output_type": "stream",
     "text": [
      "100%|██████████| 1/1 [00:04<00:00,  4.03s/it]\n"
     ]
    },
    {
     "name": "stdout",
     "output_type": "stream",
     "text": [
      "Running RagasFaithfulness evaluator\n",
      "evaluating with [faithfulness]\n"
     ]
    },
    {
     "name": "stderr",
     "output_type": "stream",
     "text": [
      "100%|██████████| 1/1 [00:08<00:00,  8.83s/it]\n"
     ]
    },
    {
     "name": "stdout",
     "output_type": "stream",
     "text": [
      "evaluating with [faithfulness]\n"
     ]
    },
    {
     "name": "stderr",
     "output_type": "stream",
     "text": [
      "100%|██████████| 1/1 [00:10<00:00, 10.16s/it]\n"
     ]
    },
    {
     "name": "stdout",
     "output_type": "stream",
     "text": [
      "Running RagasContextRelevancy evaluator\n",
      "evaluating with [context_relevancy]\n"
     ]
    },
    {
     "name": "stderr",
     "output_type": "stream",
     "text": [
      "100%|██████████| 1/1 [00:06<00:00,  6.62s/it]\n"
     ]
    },
    {
     "name": "stdout",
     "output_type": "stream",
     "text": [
      "evaluating with [context_relevancy]\n"
     ]
    },
    {
     "name": "stderr",
     "output_type": "stream",
     "text": [
      "100%|██████████| 1/1 [00:02<00:00,  2.04s/it]\n"
     ]
    },
    {
     "name": "stdout",
     "output_type": "stream",
     "text": [
      "Running RagasAnswerRelevancy evaluator\n",
      "evaluating with [answer_relevancy]\n"
     ]
    },
    {
     "name": "stderr",
     "output_type": "stream",
     "text": [
      "100%|██████████| 1/1 [00:02<00:00,  2.60s/it]\n"
     ]
    },
    {
     "name": "stdout",
     "output_type": "stream",
     "text": [
      "evaluating with [answer_relevancy]\n"
     ]
    },
    {
     "name": "stderr",
     "output_type": "stream",
     "text": [
      "100%|██████████| 1/1 [00:02<00:00,  2.29s/it]\n"
     ]
    },
    {
     "name": "stdout",
     "output_type": "stream",
     "text": [
      "You can view the evaluation results at https://app.athina.ai/develop/request/b2b36246-de26-4a98-b867-c0c6e272ef09\n"
     ]
    },
    {
     "data": {
      "text/html": [
       "<div>\n",
       "<style scoped>\n",
       "    .dataframe tbody tr th:only-of-type {\n",
       "        vertical-align: middle;\n",
       "    }\n",
       "\n",
       "    .dataframe tbody tr th {\n",
       "        vertical-align: top;\n",
       "    }\n",
       "\n",
       "    .dataframe thead th {\n",
       "        text-align: right;\n",
       "    }\n",
       "</style>\n",
       "<table border=\"1\" class=\"dataframe\">\n",
       "  <thead>\n",
       "    <tr style=\"text-align: right;\">\n",
       "      <th></th>\n",
       "      <th>query</th>\n",
       "      <th>contexts</th>\n",
       "      <th>response</th>\n",
       "      <th>expected_response</th>\n",
       "      <th>ragas_answer_correctness</th>\n",
       "      <th>ragas_faithfulness</th>\n",
       "      <th>ragas_context_relevancy</th>\n",
       "      <th>ragas_answer_relevancy</th>\n",
       "    </tr>\n",
       "  </thead>\n",
       "  <tbody>\n",
       "    <tr>\n",
       "      <th>0</th>\n",
       "      <td>How much equity does YC take?</td>\n",
       "      <td>[Tan's leadership marked the discontinuation o...</td>\n",
       "      <td>YC takes a 7% equity stake in companies that p...</td>\n",
       "      <td>YC invests $500k in exchange for 7 percent equ...</td>\n",
       "      <td>0.722709</td>\n",
       "      <td>1.0</td>\n",
       "      <td>0.285714</td>\n",
       "      <td>0.927897</td>\n",
       "    </tr>\n",
       "    <tr>\n",
       "      <th>1</th>\n",
       "      <td>Who founded YC?</td>\n",
       "      <td>[Y Combinator Management, LLC (YC) is an Ameri...</td>\n",
       "      <td>Paul Graham, Jessica Livingston, Robert Tappan...</td>\n",
       "      <td>YC was founded by Paul Graham, Jessica Livings...</td>\n",
       "      <td>0.985727</td>\n",
       "      <td>1.0</td>\n",
       "      <td>0.029412</td>\n",
       "      <td>0.937349</td>\n",
       "    </tr>\n",
       "  </tbody>\n",
       "</table>\n",
       "</div>"
      ],
      "text/plain": [
       "                           query  \\\n",
       "0  How much equity does YC take?   \n",
       "1                Who founded YC?   \n",
       "\n",
       "                                            contexts  \\\n",
       "0  [Tan's leadership marked the discontinuation o...   \n",
       "1  [Y Combinator Management, LLC (YC) is an Ameri...   \n",
       "\n",
       "                                            response  \\\n",
       "0  YC takes a 7% equity stake in companies that p...   \n",
       "1  Paul Graham, Jessica Livingston, Robert Tappan...   \n",
       "\n",
       "                                   expected_response  \\\n",
       "0  YC invests $500k in exchange for 7 percent equ...   \n",
       "1  YC was founded by Paul Graham, Jessica Livings...   \n",
       "\n",
       "   ragas_answer_correctness  ragas_faithfulness  ragas_context_relevancy  \\\n",
       "0                  0.722709                 1.0                 0.285714   \n",
       "1                  0.985727                 1.0                 0.029412   \n",
       "\n",
       "   ragas_answer_relevancy  \n",
       "0                0.927897  \n",
       "1                0.937349  "
      ]
     },
     "execution_count": 5,
     "metadata": {},
     "output_type": "execute_result"
    }
   ],
   "source": [
    "eval_model = \"gpt-3.5-turbo\"\n",
    "eval_suite = [\n",
    "    RagasAnswerCorrectness(),\n",
    "    RagasFaithfulness(),\n",
    "    RagasContextRelevancy(),\n",
    "    RagasAnswerRelevancy(),\n",
    "]\n",
    "\n",
    "# Run the evaluation suite\n",
    "EvalRunner.run_suite(\n",
    "    evals=eval_suite,\n",
    "    data=llama_index_dataset,\n",
    "    max_parallel_evals=1,   # If you increase this, you may run into rate limits\n",
    ")"
   ]
  }
 ],
 "metadata": {
  "kernelspec": {
   "display_name": ".venv",
   "language": "python",
   "name": "python3"
  },
  "language_info": {
   "codemirror_mode": {
    "name": "ipython",
    "version": 3
   },
   "file_extension": ".py",
   "mimetype": "text/x-python",
   "name": "python",
   "nbconvert_exporter": "python",
   "pygments_lexer": "ipython3",
   "version": "3.9.16"
  },
  "orig_nbformat": 4
 },
 "nbformat": 4,
 "nbformat_minor": 2
}
