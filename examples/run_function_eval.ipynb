{
 "cells": [
  {
   "cell_type": "code",
   "execution_count": 1,
   "metadata": {},
   "outputs": [
    {
     "name": "stderr",
     "output_type": "stream",
     "text": [
      "/Users/akshat_g/athina/repos/athina-evals/.venv/lib/python3.9/site-packages/urllib3/__init__.py:35: NotOpenSSLWarning: urllib3 v2 only supports OpenSSL 1.1.1+, currently the 'ssl' module is compiled with 'LibreSSL 2.8.3'. See: https://github.com/urllib3/urllib3/issues/3020\n",
      "  warnings.warn(\n",
      "/Users/akshat_g/athina/repos/athina-evals/.venv/lib/python3.9/site-packages/tqdm/auto.py:21: TqdmWarning: IProgress not found. Please update jupyter and ipywidgets. See https://ipywidgets.readthedocs.io/en/stable/user_install.html\n",
      "  from .autonotebook import tqdm as notebook_tqdm\n"
     ]
    }
   ],
   "source": [
    "import os\n",
    "from athina.evals import FunctionEvaluator\n",
    "from athina.loaders import ResponseLoader\n",
    "from athina.keys import OpenAiApiKey, AthinaApiKey\n",
    "import pandas as pd\n",
    "\n",
    "from dotenv import load_dotenv\n",
    "\n",
    "load_dotenv()\n",
    "\n",
    "OpenAiApiKey.set_key(os.getenv('OPENAI_API_KEY'))\n",
    "AthinaApiKey.set_key(os.getenv('ATHINA_API_KEY'))"
   ]
  },
  {
   "cell_type": "code",
   "execution_count": 2,
   "metadata": {},
   "outputs": [
    {
     "data": {
      "text/html": [
       "<div>\n",
       "<style scoped>\n",
       "    .dataframe tbody tr th:only-of-type {\n",
       "        vertical-align: middle;\n",
       "    }\n",
       "\n",
       "    .dataframe tbody tr th {\n",
       "        vertical-align: top;\n",
       "    }\n",
       "\n",
       "    .dataframe thead th {\n",
       "        text-align: right;\n",
       "    }\n",
       "</style>\n",
       "<table border=\"1\" class=\"dataframe\">\n",
       "  <thead>\n",
       "    <tr style=\"text-align: right;\">\n",
       "      <th></th>\n",
       "      <th>response</th>\n",
       "    </tr>\n",
       "  </thead>\n",
       "  <tbody>\n",
       "    <tr>\n",
       "      <th>0</th>\n",
       "      <td>Please contact customer support for this infor...</td>\n",
       "    </tr>\n",
       "    <tr>\n",
       "      <th>1</th>\n",
       "      <td>I cannot answer this question</td>\n",
       "    </tr>\n",
       "    <tr>\n",
       "      <th>2</th>\n",
       "      <td>Sure, you can email hello@athina.ai</td>\n",
       "    </tr>\n",
       "  </tbody>\n",
       "</table>\n",
       "</div>"
      ],
      "text/plain": [
       "                                            response\n",
       "0  Please contact customer support for this infor...\n",
       "1                      I cannot answer this question\n",
       "2                Sure, you can email hello@athina.ai"
      ]
     },
     "execution_count": 2,
     "metadata": {},
     "output_type": "execute_result"
    }
   ],
   "source": [
    "# Create batch dataset from list of dict objects\n",
    "raw_data = [\n",
    "    {\n",
    "        \"response\": \"Please contact customer support for this information\",\n",
    "    },\n",
    "    {\n",
    "        \"response\": \"I cannot answer this question\",\n",
    "    },\n",
    "    {\n",
    "        \"response\": \"Sure, you can email hello@athina.ai\",\n",
    "    }\n",
    "]\n",
    "\n",
    "dataset = ResponseLoader().load_dict(raw_data)\n",
    "pd.DataFrame(dataset)\n"
   ]
  },
  {
   "cell_type": "code",
   "execution_count": 3,
   "metadata": {},
   "outputs": [
    {
     "data": {
      "text/plain": [
       "{'name': 'ContainsAny',\n",
       " 'display_name': 'ContainsAny',\n",
       " 'data': {'response': 'Please contact customer support for this information'},\n",
       " 'reason': 'One or more keywords were found in output: contact, support',\n",
       " 'runtime': 0,\n",
       " 'metrics': [{'id': 'passed', 'value': 1.0}],\n",
       " 'failure': False}"
      ]
     },
     "execution_count": 3,
     "metadata": {},
     "output_type": "execute_result"
    }
   ],
   "source": [
    "dataset = ResponseLoader().load_dict(raw_data)\n",
    "\n",
    "evaluator = FunctionEvaluator(\n",
    "    function_name=\"ContainsAny\",\n",
    "    function_arguments={ \"keywords\": [\"contact\", \"support\"] })\n",
    "\n",
    "evaluator._evaluate(response=\"Please contact customer support for this information\")"
   ]
  },
  {
   "cell_type": "code",
   "execution_count": 4,
   "metadata": {},
   "outputs": [
    {
     "data": {
      "text/plain": [
       "BatchRunResult(eval_results=[{'name': 'ContainsAny', 'display_name': 'ContainsAny', 'data': {'response': 'Please contact customer support for this information'}, 'reason': 'One or more keywords were found in output: contact, support', 'runtime': 0, 'metrics': [{'id': 'passed', 'value': 1.0}], 'failure': False}, {'name': 'ContainsAny', 'display_name': 'ContainsAny', 'data': {'response': 'I cannot answer this question'}, 'reason': 'No keywords found in output', 'runtime': 0, 'metrics': [{'id': 'passed', 'value': 0.0}], 'failure': True}, {'name': 'ContainsAny', 'display_name': 'ContainsAny', 'data': {'response': 'Sure, you can email hello@athina.ai'}, 'reason': 'No keywords found in output', 'runtime': 0, 'metrics': [{'id': 'passed', 'value': 0.0}], 'failure': True}], eval_request_id='d4be4419-6254-4b63-bfa7-8197cb4362f4')"
      ]
     },
     "execution_count": 4,
     "metadata": {},
     "output_type": "execute_result"
    }
   ],
   "source": [
    "from athina.loaders import ResponseLoader\n",
    "from athina.evals import ContainsAny\n",
    "\n",
    "dataset = ResponseLoader().load_dict(raw_data)\n",
    "\n",
    "ContainsAny(keywords=[\"contact\", \"support\"]).run_batch(dataset)"
   ]
  }
 ],
 "metadata": {
  "kernelspec": {
   "display_name": ".venv",
   "language": "python",
   "name": "python3"
  },
  "language_info": {
   "codemirror_mode": {
    "name": "ipython",
    "version": 3
   },
   "file_extension": ".py",
   "mimetype": "text/x-python",
   "name": "python",
   "nbconvert_exporter": "python",
   "pygments_lexer": "ipython3",
   "version": "3.9.6"
  }
 },
 "nbformat": 4,
 "nbformat_minor": 2
}
