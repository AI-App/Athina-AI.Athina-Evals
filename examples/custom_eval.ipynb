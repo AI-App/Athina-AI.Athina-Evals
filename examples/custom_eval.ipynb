{
 "cells": [
  {
   "cell_type": "code",
   "execution_count": 1,
   "metadata": {},
   "outputs": [],
   "source": [
    "import os\n",
    "from athina.evals import CustomGrader\n",
    "from athina.loaders import ResponseLoader\n",
    "from athina.keys import OpenAiApiKey\n",
    "\n",
    "OpenAiApiKey.set_key(os.getenv('OPENAI_API_KEY'))"
   ]
  },
  {
   "cell_type": "markdown",
   "metadata": {},
   "source": [
    "### Initialize your dataset\n",
    "\n",
    "The [`ResponseLoader`](https://github.com/athina-ai/athina-evals/blob/main/athina/loaders/response_loader.py) class is used to load your dataset. \n",
    "\n",
    "This loader ensures that the data contains a \"response\" field and is in the correct format for the `LlmEvaluator` class."
   ]
  },
  {
   "cell_type": "code",
   "execution_count": 2,
   "metadata": {},
   "outputs": [],
   "source": [
    "# Create batch dataset from list of dict objects\n",
    "raw_data = [\n",
    "    {\n",
    "        \"response\": \"I'm sorry but I can't help you with that query\",\n",
    "    },\n",
    "    {\n",
    "        \"response\": \"I don't know the answer to that question\",\n",
    "    },\n",
    "]\n",
    "\n",
    "dataset = ResponseLoader().load_dict(raw_data)"
   ]
  },
  {
   "cell_type": "markdown",
   "metadata": {},
   "source": [
    "### Configure and Run Evaluator\n",
    "\n",
    "The easiest way to configure a custom evaluator is to use our [`CustomGrader`](https://github.com/athina-ai/athina-evals/blob/main/athina/evals/llm/custom_grader/evaluator.py) class.\n",
    "\n",
    "This evaluator simply takes in a grading criteria in the following format:\n",
    "\n",
    "```\n",
    "If X, then fail. Otherwise, pass.\n",
    "```\n",
    "\n",
    "Optionally, you can also specify what model you would like to use for grading."
   ]
  },
  {
   "cell_type": "code",
   "execution_count": 3,
   "metadata": {},
   "outputs": [
    {
     "name": "stdout",
     "output_type": "stream",
     "text": [
      "[{'name': 'custom_grader', 'data': {'response': \"I'm sorry but I can't help you with that query\"}, 'failure': True, 'reason': 'The response explicitly states that it cannot answer the query, which according to the grading criteria, results in a fail.', 'runtime': 1830, 'model': 'gpt-4-1106-preview'}, {'name': 'custom_grader', 'data': {'response': \"I don't know the answer to that question\"}, 'failure': True, 'reason': 'The response explicitly states that it cannot answer the query, which according to the grading criteria, results in a fail.', 'runtime': 1868, 'model': 'gpt-4-1106-preview'}]\n"
     ]
    }
   ],
   "source": [
    "# Checks if the LLM response answers the user query sufficiently\n",
    "eval_model = \"gpt-4-1106-preview\"\n",
    "\n",
    "grading_criteria = \"If the response says it cannot answer the query, then fail. Otherwise pass.\"\n",
    "\n",
    "eval_result = CustomGrader(\n",
    "    model=eval_model,\n",
    "    grading_criteria=grading_criteria\n",
    ").run_batch(data=dataset)\n",
    "\n",
    "print(eval_result)"
   ]
  }
 ],
 "metadata": {
  "kernelspec": {
   "display_name": ".venv",
   "language": "python",
   "name": "python3"
  },
  "language_info": {
   "codemirror_mode": {
    "name": "ipython",
    "version": 3
   },
   "file_extension": ".py",
   "mimetype": "text/x-python",
   "name": "python",
   "nbconvert_exporter": "python",
   "pygments_lexer": "ipython3",
   "version": "3.9.16"
  }
 },
 "nbformat": 4,
 "nbformat_minor": 2
}
