{
 "cells": [
  {
   "cell_type": "code",
   "execution_count": 1,
   "metadata": {},
   "outputs": [
    {
     "name": "stderr",
     "output_type": "stream",
     "text": [
      "/Users/akshat_g/athina/repos/athina-evals/.venv/lib/python3.9/site-packages/urllib3/__init__.py:35: NotOpenSSLWarning: urllib3 v2 only supports OpenSSL 1.1.1+, currently the 'ssl' module is compiled with 'LibreSSL 2.8.3'. See: https://github.com/urllib3/urllib3/issues/3020\n",
      "  warnings.warn(\n",
      "/Users/akshat_g/athina/repos/athina-evals/.venv/lib/python3.9/site-packages/tqdm/auto.py:21: TqdmWarning: IProgress not found. Please update jupyter and ipywidgets. See https://ipywidgets.readthedocs.io/en/stable/user_install.html\n",
      "  from .autonotebook import tqdm as notebook_tqdm\n"
     ]
    }
   ],
   "source": [
    "import os\n",
    "from athina.loaders import SummaryLoader\n",
    "from athina.evals import SummaryAccuracy\n",
    "from athina.keys import AthinaApiKey, OpenAiApiKey\n",
    "from athina.datasets import summarization_sample\n",
    "from athina.llms.question_answerer_bulk import QuestionAnswererBulk\n",
    "import pandas as pd\n",
    "from dotenv import load_dotenv\n",
    "\n",
    "load_dotenv()\n",
    "\n",
    "OpenAiApiKey.set_key(os.getenv('OPENAI_API_KEY'))\n",
    "AthinaApiKey.set_key(os.getenv('ATHINA_API_KEY'))"
   ]
  },
  {
   "cell_type": "code",
   "execution_count": 2,
   "metadata": {},
   "outputs": [
    {
     "data": {
      "text/html": [
       "<div>\n",
       "<style scoped>\n",
       "    .dataframe tbody tr th:only-of-type {\n",
       "        vertical-align: middle;\n",
       "    }\n",
       "\n",
       "    .dataframe tbody tr th {\n",
       "        vertical-align: top;\n",
       "    }\n",
       "\n",
       "    .dataframe thead th {\n",
       "        text-align: right;\n",
       "    }\n",
       "</style>\n",
       "<table border=\"1\" class=\"dataframe\">\n",
       "  <thead>\n",
       "    <tr style=\"text-align: right;\">\n",
       "      <th></th>\n",
       "      <th>document</th>\n",
       "      <th>response</th>\n",
       "    </tr>\n",
       "  </thead>\n",
       "  <tbody>\n",
       "    <tr>\n",
       "      <th>0</th>\n",
       "      <td>\\nAlice (Veterinarian): Hi Bob, I understand y...</td>\n",
       "      <td>\\nIn this conversation, Alice, a veterinarian,...</td>\n",
       "    </tr>\n",
       "  </tbody>\n",
       "</table>\n",
       "</div>"
      ],
      "text/plain": [
       "                                            document  \\\n",
       "0  \\nAlice (Veterinarian): Hi Bob, I understand y...   \n",
       "\n",
       "                                            response  \n",
       "0  \\nIn this conversation, Alice, a veterinarian,...  "
      ]
     },
     "execution_count": 2,
     "metadata": {},
     "output_type": "execute_result"
    }
   ],
   "source": [
    "# Load dataset for summarization\n",
    "raw_data = summarization_sample.data\n",
    "dataset = SummaryLoader().load_dict(raw_data)\n",
    "\n",
    "pd.DataFrame(dataset)"
   ]
  },
  {
   "cell_type": "code",
   "execution_count": 4,
   "metadata": {},
   "outputs": [
    {
     "name": "stdout",
     "output_type": "stream",
     "text": [
      "failure_threshold 0.5\n",
      "failure_threshold None\n",
      "failure_threshold None\n"
     ]
    },
    {
     "data": {
      "text/html": [
       "<div>\n",
       "<style scoped>\n",
       "    .dataframe tbody tr th:only-of-type {\n",
       "        vertical-align: middle;\n",
       "    }\n",
       "\n",
       "    .dataframe tbody tr th {\n",
       "        vertical-align: top;\n",
       "    }\n",
       "\n",
       "    .dataframe thead th {\n",
       "        text-align: right;\n",
       "    }\n",
       "</style>\n",
       "<table border=\"1\" class=\"dataframe\">\n",
       "  <thead>\n",
       "    <tr style=\"text-align: right;\">\n",
       "      <th></th>\n",
       "      <th>document</th>\n",
       "      <th>response</th>\n",
       "      <th>display_name</th>\n",
       "      <th>failed</th>\n",
       "      <th>grade_reason</th>\n",
       "      <th>runtime</th>\n",
       "      <th>model</th>\n",
       "      <th>agreement_score</th>\n",
       "      <th>contradiction_score</th>\n",
       "      <th>hallucination_score</th>\n",
       "    </tr>\n",
       "  </thead>\n",
       "  <tbody>\n",
       "    <tr>\n",
       "      <th>0</th>\n",
       "      <td>\\nAlice (Veterinarian): Hi Bob, I understand you're looking to get a new dog. It's great that you're considering different breeds like Golden Retrievers, Labradors, and French Bulldogs. Let's discuss what you're looking for in a dog to help you make the best choice.\\n\\nBob: Thanks, Alice. I'm really looking for a breed that's hypoallergenic and doesn't shed much. Also, it's important that the dog is friendly and non-aggressive towards other people.\\n\\nAlice: Those are important consideration...</td>\n",
       "      <td>\\nIn this conversation, Alice, a veterinarian, and Bob discuss Bob's desire to get a new dog. Bob seeks a hypoallergenic breed that sheds minimally and is friendly. Alice notes that while Golden Retrievers and Labradors are friendly, they aren't hypoallergenic and shed a lot. French Bulldogs are less shedding but also not completely hypoallergenic and can be stubborn. Alice then suggests Poodles, Bichon Frises, or Portuguese Water Dogs as breeds fitting Bob's criteria: hypoallergenic, low sh...</td>\n",
       "      <td>Summary Accuracy</td>\n",
       "      <td>False</td>\n",
       "      <td>Are Poodles hypoallergenic?\\n- Document: Yes\\n- Summary: Unknown\\n</td>\n",
       "      <td>5716</td>\n",
       "      <td>gpt-3.5-turbo</td>\n",
       "      <td>0.8</td>\n",
       "      <td>0.2</td>\n",
       "      <td>0.0</td>\n",
       "    </tr>\n",
       "  </tbody>\n",
       "</table>\n",
       "</div>"
      ],
      "text/plain": [
       "                                                                                                                                                                                                                                                                                                                                                                                                                                                                                                              document  \\\n",
       "0  \\nAlice (Veterinarian): Hi Bob, I understand you're looking to get a new dog. It's great that you're considering different breeds like Golden Retrievers, Labradors, and French Bulldogs. Let's discuss what you're looking for in a dog to help you make the best choice.\\n\\nBob: Thanks, Alice. I'm really looking for a breed that's hypoallergenic and doesn't shed much. Also, it's important that the dog is friendly and non-aggressive towards other people.\\n\\nAlice: Those are important consideration...   \n",
       "\n",
       "                                                                                                                                                                                                                                                                                                                                                                                                                                                                                                              response  \\\n",
       "0  \\nIn this conversation, Alice, a veterinarian, and Bob discuss Bob's desire to get a new dog. Bob seeks a hypoallergenic breed that sheds minimally and is friendly. Alice notes that while Golden Retrievers and Labradors are friendly, they aren't hypoallergenic and shed a lot. French Bulldogs are less shedding but also not completely hypoallergenic and can be stubborn. Alice then suggests Poodles, Bichon Frises, or Portuguese Water Dogs as breeds fitting Bob's criteria: hypoallergenic, low sh...   \n",
       "\n",
       "       display_name  failed  \\\n",
       "0  Summary Accuracy   False   \n",
       "\n",
       "                                                         grade_reason  \\\n",
       "0  Are Poodles hypoallergenic?\\n- Document: Yes\\n- Summary: Unknown\\n   \n",
       "\n",
       "   runtime          model  agreement_score  contradiction_score  \\\n",
       "0     5716  gpt-3.5-turbo              0.8                  0.2   \n",
       "\n",
       "   hallucination_score  \n",
       "0                  0.0  "
      ]
     },
     "execution_count": 4,
     "metadata": {},
     "output_type": "execute_result"
    }
   ],
   "source": [
    "# Run summary accuracy evaluation\n",
    "from athina.llms.openai_service import OpenAiService\n",
    "\n",
    "\n",
    "model = \"gpt-3.5-turbo\"\n",
    "question_answerer = QuestionAnswererBulk(model=model)\n",
    "SummaryAccuracy(\n",
    "    question_answerer=question_answerer,\n",
    "    model=model,\n",
    "    n_questions=5,\n",
    "    agreement_score_failure_threshold=0.5,\n",
    ").run_batch(dataset).to_df()"
   ]
  }
 ],
 "metadata": {
  "kernelspec": {
   "display_name": ".venv",
   "language": "python",
   "name": "python3"
  },
  "language_info": {
   "codemirror_mode": {
    "name": "ipython",
    "version": 3
   },
   "file_extension": ".py",
   "mimetype": "text/x-python",
   "name": "python",
   "nbconvert_exporter": "python",
   "pygments_lexer": "ipython3",
   "version": "3.9.6"
  }
 },
 "nbformat": 4,
 "nbformat_minor": 2
}
