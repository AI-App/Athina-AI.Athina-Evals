{
 "cells": [
  {
   "cell_type": "code",
   "execution_count": 1,
   "metadata": {},
   "outputs": [
    {
     "name": "stderr",
     "output_type": "stream",
     "text": [
      "/Users/akshat_g/athina/repos/athina-evals/.venv/lib/python3.9/site-packages/urllib3/__init__.py:35: NotOpenSSLWarning: urllib3 v2 only supports OpenSSL 1.1.1+, currently the 'ssl' module is compiled with 'LibreSSL 2.8.3'. See: https://github.com/urllib3/urllib3/issues/3020\n",
      "  warnings.warn(\n",
      "/Users/akshat_g/athina/repos/athina-evals/.venv/lib/python3.9/site-packages/tqdm/auto.py:21: TqdmWarning: IProgress not found. Please update jupyter and ipywidgets. See https://ipywidgets.readthedocs.io/en/stable/user_install.html\n",
      "  from .autonotebook import tqdm as notebook_tqdm\n"
     ]
    }
   ],
   "source": [
    "import os\n",
    "from athina.evals import RagasAnswerCorrectness, RagasAnswerRelevancy, RagasContextRelevancy, RagasFaithfulness \n",
    "from athina.loaders import Loader\n",
    "from athina.keys import AthinaApiKey, OpenAiApiKey\n",
    "from athina.runner.run import EvalRunner\n",
    "from athina.datasets import yc_query_mini\n",
    "from athina.interfaces.athina import AthinaExperiment\n",
    "import pandas as pd\n",
    "\n",
    "OpenAiApiKey.set_key(os.getenv('OPENAI_API_KEY'))\n",
    "AthinaApiKey.set_key(os.getenv('ATHINA_API_KEY'))"
   ]
  },
  {
   "cell_type": "code",
   "execution_count": 2,
   "metadata": {},
   "outputs": [
    {
     "data": {
      "text/html": [
       "<div>\n",
       "<style scoped>\n",
       "    .dataframe tbody tr th:only-of-type {\n",
       "        vertical-align: middle;\n",
       "    }\n",
       "\n",
       "    .dataframe tbody tr th {\n",
       "        vertical-align: top;\n",
       "    }\n",
       "\n",
       "    .dataframe thead th {\n",
       "        text-align: right;\n",
       "    }\n",
       "</style>\n",
       "<table border=\"1\" class=\"dataframe\">\n",
       "  <thead>\n",
       "    <tr style=\"text-align: right;\">\n",
       "      <th></th>\n",
       "      <th>query</th>\n",
       "      <th>context</th>\n",
       "      <th>response</th>\n",
       "      <th>expected_response</th>\n",
       "    </tr>\n",
       "  </thead>\n",
       "  <tbody>\n",
       "    <tr>\n",
       "      <th>0</th>\n",
       "      <td>What are some successful companies that went t...</td>\n",
       "      <td>[Y Combinator has invested in companies in var...</td>\n",
       "      <td>Airbnb, Dropbox, Stripe, Reddit, Coinbase, Ins...</td>\n",
       "      <td>Airbnb and Stripe are 2 of the successful comp...</td>\n",
       "    </tr>\n",
       "    <tr>\n",
       "      <th>1</th>\n",
       "      <td>In which city is YC located?</td>\n",
       "      <td>[Y Combinator is located in Mountain View, Cal...</td>\n",
       "      <td>Y Combinator is located in San Francisco</td>\n",
       "      <td>YC is located in Mountain View, California.</td>\n",
       "    </tr>\n",
       "    <tr>\n",
       "      <th>2</th>\n",
       "      <td>How much equity does YC take?</td>\n",
       "      <td>[Y Combinator invests $500k in 200 startups tw...</td>\n",
       "      <td>YC invests $150k for 7%.</td>\n",
       "      <td>I cannot answer this question as I do not have...</td>\n",
       "    </tr>\n",
       "    <tr>\n",
       "      <th>3</th>\n",
       "      <td>How much equity does YC take?</td>\n",
       "      <td>[Y Combinator invests $500k in 200 startups tw...</td>\n",
       "      <td>I cannot answer this question as I do not have...</td>\n",
       "      <td>I cannot answer this question as I do not have...</td>\n",
       "    </tr>\n",
       "    <tr>\n",
       "      <th>4</th>\n",
       "      <td>Who founded YC and when was it founded?</td>\n",
       "      <td>[Y Combinator was founded in March 2005 by Pau...</td>\n",
       "      <td>Y Combinator was founded in 2005</td>\n",
       "      <td>Y Combinator was founded in March 2005 by Paul...</td>\n",
       "    </tr>\n",
       "    <tr>\n",
       "      <th>5</th>\n",
       "      <td>Does Y Combinator invest in startups outside t...</td>\n",
       "      <td>[Y Combinator invests in startups from all ove...</td>\n",
       "      <td>Yes, Y Combinator invests in international sta...</td>\n",
       "      <td>Yes, Y Combinator invests in startups from all...</td>\n",
       "    </tr>\n",
       "    <tr>\n",
       "      <th>6</th>\n",
       "      <td>How much does YC invest in startups?</td>\n",
       "      <td>[YC invests $150k for 7%.]</td>\n",
       "      <td>$150k</td>\n",
       "      <td>YC invests $150k for 7%.</td>\n",
       "    </tr>\n",
       "    <tr>\n",
       "      <th>7</th>\n",
       "      <td>What is YC's motto?</td>\n",
       "      <td>[Y Combinator's motto is 'Make something peopl...</td>\n",
       "      <td>Make something people want</td>\n",
       "      <td>Make something people want</td>\n",
       "    </tr>\n",
       "  </tbody>\n",
       "</table>\n",
       "</div>"
      ],
      "text/plain": [
       "                                               query  \\\n",
       "0  What are some successful companies that went t...   \n",
       "1                       In which city is YC located?   \n",
       "2                      How much equity does YC take?   \n",
       "3                      How much equity does YC take?   \n",
       "4            Who founded YC and when was it founded?   \n",
       "5  Does Y Combinator invest in startups outside t...   \n",
       "6               How much does YC invest in startups?   \n",
       "7                                What is YC's motto?   \n",
       "\n",
       "                                             context  \\\n",
       "0  [Y Combinator has invested in companies in var...   \n",
       "1  [Y Combinator is located in Mountain View, Cal...   \n",
       "2  [Y Combinator invests $500k in 200 startups tw...   \n",
       "3  [Y Combinator invests $500k in 200 startups tw...   \n",
       "4  [Y Combinator was founded in March 2005 by Pau...   \n",
       "5  [Y Combinator invests in startups from all ove...   \n",
       "6                         [YC invests $150k for 7%.]   \n",
       "7  [Y Combinator's motto is 'Make something peopl...   \n",
       "\n",
       "                                            response  \\\n",
       "0  Airbnb, Dropbox, Stripe, Reddit, Coinbase, Ins...   \n",
       "1           Y Combinator is located in San Francisco   \n",
       "2                           YC invests $150k for 7%.   \n",
       "3  I cannot answer this question as I do not have...   \n",
       "4                   Y Combinator was founded in 2005   \n",
       "5  Yes, Y Combinator invests in international sta...   \n",
       "6                                              $150k   \n",
       "7                         Make something people want   \n",
       "\n",
       "                                   expected_response  \n",
       "0  Airbnb and Stripe are 2 of the successful comp...  \n",
       "1        YC is located in Mountain View, California.  \n",
       "2  I cannot answer this question as I do not have...  \n",
       "3  I cannot answer this question as I do not have...  \n",
       "4  Y Combinator was founded in March 2005 by Paul...  \n",
       "5  Yes, Y Combinator invests in startups from all...  \n",
       "6                           YC invests $150k for 7%.  \n",
       "7                         Make something people want  "
      ]
     },
     "execution_count": 2,
     "metadata": {},
     "output_type": "execute_result"
    }
   ],
   "source": [
    "# Create batch dataset from list of dict objects\n",
    "raw_data = yc_query_mini.data\n",
    "\n",
    "dataset = Loader().load_dict(raw_data)\n",
    "pd.DataFrame(dataset)"
   ]
  },
  {
   "cell_type": "code",
   "execution_count": 3,
   "metadata": {},
   "outputs": [
    {
     "name": "stdout",
     "output_type": "stream",
     "text": [
      "evaluating with [answer_correctness]\n"
     ]
    },
    {
     "name": "stderr",
     "output_type": "stream",
     "text": [
      "100%|██████████| 1/1 [00:07<00:00,  7.77s/it]\n"
     ]
    },
    {
     "name": "stdout",
     "output_type": "stream",
     "text": [
      "evaluating with [answer_correctness]\n"
     ]
    },
    {
     "name": "stderr",
     "output_type": "stream",
     "text": [
      "100%|██████████| 1/1 [00:02<00:00,  2.29s/it]\n"
     ]
    },
    {
     "name": "stdout",
     "output_type": "stream",
     "text": [
      "evaluating with [answer_correctness]\n"
     ]
    },
    {
     "name": "stderr",
     "output_type": "stream",
     "text": [
      "100%|██████████| 1/1 [00:03<00:00,  3.80s/it]\n"
     ]
    },
    {
     "name": "stdout",
     "output_type": "stream",
     "text": [
      "evaluating with [answer_correctness]\n"
     ]
    },
    {
     "name": "stderr",
     "output_type": "stream",
     "text": [
      "100%|██████████| 1/1 [00:01<00:00,  1.64s/it]\n",
      "/Users/akshat_g/athina/repos/athina-evals/.venv/lib/python3.9/site-packages/ragas/evaluation.py:130: RuntimeWarning: Mean of empty slice\n",
      "  value = np.nanmean(self.scores[cn])\n",
      "\u001b[33mWARN: Invalid metric value: nan\n",
      "\u001b[0m\n"
     ]
    },
    {
     "name": "stdout",
     "output_type": "stream",
     "text": [
      "evaluating with [answer_correctness]\n"
     ]
    },
    {
     "name": "stderr",
     "output_type": "stream",
     "text": [
      "100%|██████████| 1/1 [00:02<00:00,  2.55s/it]\n"
     ]
    },
    {
     "name": "stdout",
     "output_type": "stream",
     "text": [
      "evaluating with [answer_correctness]\n"
     ]
    },
    {
     "name": "stderr",
     "output_type": "stream",
     "text": [
      "100%|██████████| 1/1 [00:02<00:00,  2.18s/it]\n"
     ]
    },
    {
     "name": "stdout",
     "output_type": "stream",
     "text": [
      "evaluating with [answer_correctness]\n"
     ]
    },
    {
     "name": "stderr",
     "output_type": "stream",
     "text": [
      "100%|██████████| 1/1 [00:02<00:00,  2.08s/it]\n"
     ]
    },
    {
     "name": "stdout",
     "output_type": "stream",
     "text": [
      "evaluating with [answer_correctness]\n"
     ]
    },
    {
     "name": "stderr",
     "output_type": "stream",
     "text": [
      "100%|██████████| 1/1 [00:01<00:00,  1.32s/it]\n",
      "/Users/akshat_g/athina/repos/athina-evals/.venv/lib/python3.9/site-packages/ragas/evaluation.py:130: RuntimeWarning: Mean of empty slice\n",
      "  value = np.nanmean(self.scores[cn])\n",
      "\u001b[33mWARN: Invalid metric value: nan\n",
      "\u001b[0m\n"
     ]
    },
    {
     "name": "stdout",
     "output_type": "stream",
     "text": [
      "evaluating with [faithfulness]\n"
     ]
    },
    {
     "name": "stderr",
     "output_type": "stream",
     "text": [
      "100%|██████████| 1/1 [00:08<00:00,  8.06s/it]\n"
     ]
    },
    {
     "name": "stdout",
     "output_type": "stream",
     "text": [
      "evaluating with [faithfulness]\n"
     ]
    },
    {
     "name": "stderr",
     "output_type": "stream",
     "text": [
      "100%|██████████| 1/1 [00:02<00:00,  2.46s/it]\n"
     ]
    },
    {
     "name": "stdout",
     "output_type": "stream",
     "text": [
      "evaluating with [faithfulness]\n"
     ]
    },
    {
     "name": "stderr",
     "output_type": "stream",
     "text": [
      "100%|██████████| 1/1 [00:03<00:00,  3.27s/it]\n"
     ]
    },
    {
     "name": "stdout",
     "output_type": "stream",
     "text": [
      "evaluating with [faithfulness]\n"
     ]
    },
    {
     "name": "stderr",
     "output_type": "stream",
     "text": [
      "100%|██████████| 1/1 [00:01<00:00,  2.00s/it]\n"
     ]
    },
    {
     "name": "stdout",
     "output_type": "stream",
     "text": [
      "evaluating with [faithfulness]\n"
     ]
    },
    {
     "name": "stderr",
     "output_type": "stream",
     "text": [
      "100%|██████████| 1/1 [00:02<00:00,  2.30s/it]\n"
     ]
    },
    {
     "name": "stdout",
     "output_type": "stream",
     "text": [
      "evaluating with [faithfulness]\n"
     ]
    },
    {
     "name": "stderr",
     "output_type": "stream",
     "text": [
      "100%|██████████| 1/1 [00:03<00:00,  3.41s/it]\n"
     ]
    },
    {
     "name": "stdout",
     "output_type": "stream",
     "text": [
      "evaluating with [faithfulness]\n"
     ]
    },
    {
     "name": "stderr",
     "output_type": "stream",
     "text": [
      "100%|██████████| 1/1 [00:02<00:00,  2.20s/it]\n"
     ]
    },
    {
     "name": "stdout",
     "output_type": "stream",
     "text": [
      "evaluating with [faithfulness]\n"
     ]
    },
    {
     "name": "stderr",
     "output_type": "stream",
     "text": [
      "100%|██████████| 1/1 [00:02<00:00,  2.13s/it]\n"
     ]
    },
    {
     "name": "stdout",
     "output_type": "stream",
     "text": [
      "evaluating with [context_relevancy]\n"
     ]
    },
    {
     "name": "stderr",
     "output_type": "stream",
     "text": [
      "100%|██████████| 1/1 [00:00<00:00,  1.78it/s]\n"
     ]
    },
    {
     "name": "stdout",
     "output_type": "stream",
     "text": [
      "evaluating with [context_relevancy]\n"
     ]
    },
    {
     "name": "stderr",
     "output_type": "stream",
     "text": [
      "100%|██████████| 1/1 [00:00<00:00,  1.50it/s]\n"
     ]
    },
    {
     "name": "stdout",
     "output_type": "stream",
     "text": [
      "evaluating with [context_relevancy]\n"
     ]
    },
    {
     "name": "stderr",
     "output_type": "stream",
     "text": [
      "100%|██████████| 1/1 [00:00<00:00,  1.53it/s]\n"
     ]
    },
    {
     "name": "stdout",
     "output_type": "stream",
     "text": [
      "evaluating with [context_relevancy]\n"
     ]
    },
    {
     "name": "stderr",
     "output_type": "stream",
     "text": [
      "100%|██████████| 1/1 [00:00<00:00,  1.47it/s]\n"
     ]
    },
    {
     "name": "stdout",
     "output_type": "stream",
     "text": [
      "evaluating with [context_relevancy]\n"
     ]
    },
    {
     "name": "stderr",
     "output_type": "stream",
     "text": [
      "100%|██████████| 1/1 [00:00<00:00,  1.21it/s]\n"
     ]
    },
    {
     "name": "stdout",
     "output_type": "stream",
     "text": [
      "evaluating with [context_relevancy]\n"
     ]
    },
    {
     "name": "stderr",
     "output_type": "stream",
     "text": [
      "100%|██████████| 1/1 [00:00<00:00,  1.26it/s]\n"
     ]
    },
    {
     "name": "stdout",
     "output_type": "stream",
     "text": [
      "evaluating with [context_relevancy]\n"
     ]
    },
    {
     "name": "stderr",
     "output_type": "stream",
     "text": [
      "100%|██████████| 1/1 [00:00<00:00,  1.54it/s]\n"
     ]
    },
    {
     "name": "stdout",
     "output_type": "stream",
     "text": [
      "evaluating with [context_relevancy]\n"
     ]
    },
    {
     "name": "stderr",
     "output_type": "stream",
     "text": [
      "100%|██████████| 1/1 [00:00<00:00,  1.56it/s]\n"
     ]
    },
    {
     "name": "stdout",
     "output_type": "stream",
     "text": [
      "evaluating with [answer_relevancy]\n"
     ]
    },
    {
     "name": "stderr",
     "output_type": "stream",
     "text": [
      "100%|██████████| 1/1 [00:01<00:00,  1.40s/it]\n"
     ]
    },
    {
     "name": "stdout",
     "output_type": "stream",
     "text": [
      "evaluating with [answer_relevancy]\n"
     ]
    },
    {
     "name": "stderr",
     "output_type": "stream",
     "text": [
      "100%|██████████| 1/1 [00:01<00:00,  1.11s/it]\n"
     ]
    },
    {
     "name": "stdout",
     "output_type": "stream",
     "text": [
      "evaluating with [answer_relevancy]\n"
     ]
    },
    {
     "name": "stderr",
     "output_type": "stream",
     "text": [
      "100%|██████████| 1/1 [00:01<00:00,  1.37s/it]\n"
     ]
    },
    {
     "name": "stdout",
     "output_type": "stream",
     "text": [
      "evaluating with [answer_relevancy]\n"
     ]
    },
    {
     "name": "stderr",
     "output_type": "stream",
     "text": [
      "100%|██████████| 1/1 [00:01<00:00,  1.21s/it]\n"
     ]
    },
    {
     "name": "stdout",
     "output_type": "stream",
     "text": [
      "evaluating with [answer_relevancy]\n"
     ]
    },
    {
     "name": "stderr",
     "output_type": "stream",
     "text": [
      "100%|██████████| 1/1 [00:01<00:00,  1.17s/it]\n"
     ]
    },
    {
     "name": "stdout",
     "output_type": "stream",
     "text": [
      "evaluating with [answer_relevancy]\n"
     ]
    },
    {
     "name": "stderr",
     "output_type": "stream",
     "text": [
      "100%|██████████| 1/1 [00:02<00:00,  2.85s/it]\n"
     ]
    },
    {
     "name": "stdout",
     "output_type": "stream",
     "text": [
      "evaluating with [answer_relevancy]\n"
     ]
    },
    {
     "name": "stderr",
     "output_type": "stream",
     "text": [
      "100%|██████████| 1/1 [00:04<00:00,  4.75s/it]\n"
     ]
    },
    {
     "name": "stdout",
     "output_type": "stream",
     "text": [
      "evaluating with [answer_relevancy]\n"
     ]
    },
    {
     "name": "stderr",
     "output_type": "stream",
     "text": [
      "100%|██████████| 1/1 [00:01<00:00,  1.13s/it]"
     ]
    },
    {
     "name": "stdout",
     "output_type": "stream",
     "text": [
      "You can view the evaluation results at https://app.athina.ai/develop/request/c23f8ae1-0946-4659-8f81-3f434dcfebd3\n"
     ]
    },
    {
     "name": "stderr",
     "output_type": "stream",
     "text": [
      "\n"
     ]
    },
    {
     "data": {
      "text/html": [
       "<div>\n",
       "<style scoped>\n",
       "    .dataframe tbody tr th:only-of-type {\n",
       "        vertical-align: middle;\n",
       "    }\n",
       "\n",
       "    .dataframe tbody tr th {\n",
       "        vertical-align: top;\n",
       "    }\n",
       "\n",
       "    .dataframe thead th {\n",
       "        text-align: right;\n",
       "    }\n",
       "</style>\n",
       "<table border=\"1\" class=\"dataframe\">\n",
       "  <thead>\n",
       "    <tr style=\"text-align: right;\">\n",
       "      <th></th>\n",
       "      <th>query</th>\n",
       "      <th>context</th>\n",
       "      <th>response</th>\n",
       "      <th>expected_response</th>\n",
       "      <th>Ragas Answer Correctness ragas_answer_correctness</th>\n",
       "      <th>Ragas Faithfulness ragas_faithfulness</th>\n",
       "      <th>Ragas Context Relevancy ragas_context_relevancy</th>\n",
       "      <th>Ragas Answer Relevancy ragas_answer_relevancy</th>\n",
       "    </tr>\n",
       "  </thead>\n",
       "  <tbody>\n",
       "    <tr>\n",
       "      <th>0</th>\n",
       "      <td>What are some successful companies that went t...</td>\n",
       "      <td>[Y Combinator has invested in companies in var...</td>\n",
       "      <td>Airbnb, Dropbox, Stripe, Reddit, Coinbase, Ins...</td>\n",
       "      <td>Airbnb and Stripe are 2 of the successful comp...</td>\n",
       "      <td>0.718469</td>\n",
       "      <td>0.666667</td>\n",
       "      <td>1.0</td>\n",
       "      <td>0.915171</td>\n",
       "    </tr>\n",
       "    <tr>\n",
       "      <th>1</th>\n",
       "      <td>In which city is YC located?</td>\n",
       "      <td>[Y Combinator is located in Mountain View, Cal...</td>\n",
       "      <td>Y Combinator is located in San Francisco</td>\n",
       "      <td>YC is located in Mountain View, California.</td>\n",
       "      <td>0.213528</td>\n",
       "      <td>0.000000</td>\n",
       "      <td>1.0</td>\n",
       "      <td>0.887728</td>\n",
       "    </tr>\n",
       "    <tr>\n",
       "      <th>2</th>\n",
       "      <td>How much equity does YC take?</td>\n",
       "      <td>[Y Combinator invests $500k in 200 startups tw...</td>\n",
       "      <td>YC invests $150k for 7%.</td>\n",
       "      <td>I cannot answer this question as I do not have...</td>\n",
       "      <td>0.183196</td>\n",
       "      <td>0.000000</td>\n",
       "      <td>1.0</td>\n",
       "      <td>0.878607</td>\n",
       "    </tr>\n",
       "    <tr>\n",
       "      <th>3</th>\n",
       "      <td>How much equity does YC take?</td>\n",
       "      <td>[Y Combinator invests $500k in 200 startups tw...</td>\n",
       "      <td>I cannot answer this question as I do not have...</td>\n",
       "      <td>I cannot answer this question as I do not have...</td>\n",
       "      <td>NaN</td>\n",
       "      <td>0.000000</td>\n",
       "      <td>1.0</td>\n",
       "      <td>0.000000</td>\n",
       "    </tr>\n",
       "    <tr>\n",
       "      <th>4</th>\n",
       "      <td>Who founded YC and when was it founded?</td>\n",
       "      <td>[Y Combinator was founded in March 2005 by Pau...</td>\n",
       "      <td>Y Combinator was founded in 2005</td>\n",
       "      <td>Y Combinator was founded in March 2005 by Paul...</td>\n",
       "      <td>0.609740</td>\n",
       "      <td>1.000000</td>\n",
       "      <td>1.0</td>\n",
       "      <td>0.897087</td>\n",
       "    </tr>\n",
       "    <tr>\n",
       "      <th>5</th>\n",
       "      <td>Does Y Combinator invest in startups outside t...</td>\n",
       "      <td>[Y Combinator invests in startups from all ove...</td>\n",
       "      <td>Yes, Y Combinator invests in international sta...</td>\n",
       "      <td>Yes, Y Combinator invests in startups from all...</td>\n",
       "      <td>0.743316</td>\n",
       "      <td>0.500000</td>\n",
       "      <td>1.0</td>\n",
       "      <td>0.981736</td>\n",
       "    </tr>\n",
       "    <tr>\n",
       "      <th>6</th>\n",
       "      <td>How much does YC invest in startups?</td>\n",
       "      <td>[YC invests $150k for 7%.]</td>\n",
       "      <td>$150k</td>\n",
       "      <td>YC invests $150k for 7%.</td>\n",
       "      <td>0.713585</td>\n",
       "      <td>0.000000</td>\n",
       "      <td>1.0</td>\n",
       "      <td>0.916683</td>\n",
       "    </tr>\n",
       "    <tr>\n",
       "      <th>7</th>\n",
       "      <td>What is YC's motto?</td>\n",
       "      <td>[Y Combinator's motto is 'Make something peopl...</td>\n",
       "      <td>Make something people want</td>\n",
       "      <td>Make something people want</td>\n",
       "      <td>NaN</td>\n",
       "      <td>1.000000</td>\n",
       "      <td>1.0</td>\n",
       "      <td>0.921079</td>\n",
       "    </tr>\n",
       "  </tbody>\n",
       "</table>\n",
       "</div>"
      ],
      "text/plain": [
       "                                               query  \\\n",
       "0  What are some successful companies that went t...   \n",
       "1                       In which city is YC located?   \n",
       "2                      How much equity does YC take?   \n",
       "3                      How much equity does YC take?   \n",
       "4            Who founded YC and when was it founded?   \n",
       "5  Does Y Combinator invest in startups outside t...   \n",
       "6               How much does YC invest in startups?   \n",
       "7                                What is YC's motto?   \n",
       "\n",
       "                                             context  \\\n",
       "0  [Y Combinator has invested in companies in var...   \n",
       "1  [Y Combinator is located in Mountain View, Cal...   \n",
       "2  [Y Combinator invests $500k in 200 startups tw...   \n",
       "3  [Y Combinator invests $500k in 200 startups tw...   \n",
       "4  [Y Combinator was founded in March 2005 by Pau...   \n",
       "5  [Y Combinator invests in startups from all ove...   \n",
       "6                         [YC invests $150k for 7%.]   \n",
       "7  [Y Combinator's motto is 'Make something peopl...   \n",
       "\n",
       "                                            response  \\\n",
       "0  Airbnb, Dropbox, Stripe, Reddit, Coinbase, Ins...   \n",
       "1           Y Combinator is located in San Francisco   \n",
       "2                           YC invests $150k for 7%.   \n",
       "3  I cannot answer this question as I do not have...   \n",
       "4                   Y Combinator was founded in 2005   \n",
       "5  Yes, Y Combinator invests in international sta...   \n",
       "6                                              $150k   \n",
       "7                         Make something people want   \n",
       "\n",
       "                                   expected_response  \\\n",
       "0  Airbnb and Stripe are 2 of the successful comp...   \n",
       "1        YC is located in Mountain View, California.   \n",
       "2  I cannot answer this question as I do not have...   \n",
       "3  I cannot answer this question as I do not have...   \n",
       "4  Y Combinator was founded in March 2005 by Paul...   \n",
       "5  Yes, Y Combinator invests in startups from all...   \n",
       "6                           YC invests $150k for 7%.   \n",
       "7                         Make something people want   \n",
       "\n",
       "   Ragas Answer Correctness ragas_answer_correctness  \\\n",
       "0                                           0.718469   \n",
       "1                                           0.213528   \n",
       "2                                           0.183196   \n",
       "3                                                NaN   \n",
       "4                                           0.609740   \n",
       "5                                           0.743316   \n",
       "6                                           0.713585   \n",
       "7                                                NaN   \n",
       "\n",
       "   Ragas Faithfulness ragas_faithfulness  \\\n",
       "0                               0.666667   \n",
       "1                               0.000000   \n",
       "2                               0.000000   \n",
       "3                               0.000000   \n",
       "4                               1.000000   \n",
       "5                               0.500000   \n",
       "6                               0.000000   \n",
       "7                               1.000000   \n",
       "\n",
       "   Ragas Context Relevancy ragas_context_relevancy  \\\n",
       "0                                              1.0   \n",
       "1                                              1.0   \n",
       "2                                              1.0   \n",
       "3                                              1.0   \n",
       "4                                              1.0   \n",
       "5                                              1.0   \n",
       "6                                              1.0   \n",
       "7                                              1.0   \n",
       "\n",
       "   Ragas Answer Relevancy ragas_answer_relevancy  \n",
       "0                                       0.915171  \n",
       "1                                       0.887728  \n",
       "2                                       0.878607  \n",
       "3                                       0.000000  \n",
       "4                                       0.897087  \n",
       "5                                       0.981736  \n",
       "6                                       0.916683  \n",
       "7                                       0.921079  "
      ]
     },
     "execution_count": 3,
     "metadata": {},
     "output_type": "execute_result"
    }
   ],
   "source": [
    "# Run the eval suite\n",
    "eval_model = \"gpt-4-1106-preview\"\n",
    "eval_suite = [\n",
    "    RagasAnswerCorrectness(),\n",
    "    RagasFaithfulness(),\n",
    "    RagasContextRelevancy(),\n",
    "    RagasAnswerRelevancy(),\n",
    "]\n",
    "\n",
    "# Run the evaluation suite\n",
    "batch_eval_result = EvalRunner.run_suite(\n",
    "    evals=eval_suite,\n",
    "    data=dataset,\n",
    "    max_parallel_evals=1,   # If you increase this, you may run into rate limits\n",
    ")\n",
    "\n",
    "pd.DataFrame(batch_eval_result)"
   ]
  }
 ],
 "metadata": {
  "kernelspec": {
   "display_name": ".venv",
   "language": "python",
   "name": "python3"
  },
  "language_info": {
   "codemirror_mode": {
    "name": "ipython",
    "version": 3
   },
   "file_extension": ".py",
   "mimetype": "text/x-python",
   "name": "python",
   "nbconvert_exporter": "python",
   "pygments_lexer": "ipython3",
   "version": "3.9.6"
  }
 },
 "nbformat": 4,
 "nbformat_minor": 2
}
