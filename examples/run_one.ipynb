{
 "cells": [
  {
   "cell_type": "code",
   "execution_count": 1,
   "metadata": {},
   "outputs": [],
   "source": [
    "import os\n",
    "from athina.llms.openai_service import OpenAiService\n",
    "from athina.evals import DoesResponseAnswerQuery, ContextContainsEnoughInformation, Faithfulness, CustomGrader\n",
    "from athina.keys import AthinaApiKey, OpenAiApiKey\n",
    "\n",
    "# OpenAiApiKey.set_key(os.getenv('OPENAI_API_KEY'))\n",
    "AthinaApiKey.set_key(os.getenv('ATHINA_API_KEY'))"
   ]
  },
  {
   "cell_type": "code",
   "execution_count": 2,
   "metadata": {},
   "outputs": [
    {
     "ename": "NoOpenAiApiKeyException",
     "evalue": "\nPlease set an OpenAI API key.\n\nSee https://docs.athina.ai/evals/quick_start for more info.\n",
     "output_type": "error",
     "traceback": [
      "\u001b[0;31m---------------------------------------------------------------------------\u001b[0m",
      "\u001b[0;31mNoOpenAiApiKeyException\u001b[0m                   Traceback (most recent call last)",
      "\u001b[1;32m/Users/shivsakhuja/dev/athina/athina-evals/examples/run_one.ipynb Cell 2\u001b[0m line \u001b[0;36m1\n\u001b[1;32m      <a href='vscode-notebook-cell:/Users/shivsakhuja/dev/athina/athina-evals/examples/run_one.ipynb#W1sZmlsZQ%3D%3D?line=3'>4</a>\u001b[0m context \u001b[39m=\u001b[39m \u001b[39m\"\u001b[39m\u001b[39mBlack holes are stars that have collapsed under their own gravity. They are so dense that nothing can escape their gravitational pull, not even light.\u001b[39m\u001b[39m\"\u001b[39m\n\u001b[1;32m      <a href='vscode-notebook-cell:/Users/shivsakhuja/dev/athina/athina-evals/examples/run_one.ipynb#W1sZmlsZQ%3D%3D?line=4'>5</a>\u001b[0m prompt \u001b[39m=\u001b[39m [\n\u001b[1;32m      <a href='vscode-notebook-cell:/Users/shivsakhuja/dev/athina/athina-evals/examples/run_one.ipynb#W1sZmlsZQ%3D%3D?line=5'>6</a>\u001b[0m     {\n\u001b[1;32m      <a href='vscode-notebook-cell:/Users/shivsakhuja/dev/athina/athina-evals/examples/run_one.ipynb#W1sZmlsZQ%3D%3D?line=6'>7</a>\u001b[0m         \u001b[39m\"\u001b[39m\u001b[39mrole\u001b[39m\u001b[39m\"\u001b[39m: \u001b[39m\"\u001b[39m\u001b[39msystem\u001b[39m\u001b[39m\"\u001b[39m,\n\u001b[0;32m   (...)\u001b[0m\n\u001b[1;32m     <a href='vscode-notebook-cell:/Users/shivsakhuja/dev/athina/athina-evals/examples/run_one.ipynb#W1sZmlsZQ%3D%3D?line=12'>13</a>\u001b[0m     }\n\u001b[1;32m     <a href='vscode-notebook-cell:/Users/shivsakhuja/dev/athina/athina-evals/examples/run_one.ipynb#W1sZmlsZQ%3D%3D?line=13'>14</a>\u001b[0m ]\n\u001b[0;32m---> <a href='vscode-notebook-cell:/Users/shivsakhuja/dev/athina/athina-evals/examples/run_one.ipynb#W1sZmlsZQ%3D%3D?line=15'>16</a>\u001b[0m openai_service \u001b[39m=\u001b[39m OpenAiService()\n\u001b[1;32m     <a href='vscode-notebook-cell:/Users/shivsakhuja/dev/athina/athina-evals/examples/run_one.ipynb#W1sZmlsZQ%3D%3D?line=16'>17</a>\u001b[0m \u001b[39m# response = openai_service.chat_completion(prompt, model=model)\u001b[39;00m\n\u001b[1;32m     <a href='vscode-notebook-cell:/Users/shivsakhuja/dev/athina/athina-evals/examples/run_one.ipynb#W1sZmlsZQ%3D%3D?line=17'>18</a>\u001b[0m response \u001b[39m=\u001b[39m \u001b[39m\"\u001b[39m\u001b[39mA shooting star, also known as a meteor, is not related to black holes. It is a small piece of space debris, such as a rock or dust particle, that enters Earth\u001b[39m\u001b[39m'\u001b[39m\u001b[39ms atmosphere and burns up due to friction with the air. This creates a streak of light in the sky, which is commonly referred to as a shooting star.\u001b[39m\u001b[39m\"\u001b[39m\n",
      "File \u001b[0;32m~/dev/athina/athina-evals/athina/llms/openai_service.py:23\u001b[0m, in \u001b[0;36mOpenAiService.__init__\u001b[0;34m(self)\u001b[0m\n\u001b[1;32m     21\u001b[0m openai_api_key \u001b[39m=\u001b[39m OpenAiApiKey\u001b[39m.\u001b[39mget_key()\n\u001b[1;32m     22\u001b[0m \u001b[39mif\u001b[39;00m openai_api_key \u001b[39mis\u001b[39;00m \u001b[39mNone\u001b[39;00m:\n\u001b[0;32m---> 23\u001b[0m     \u001b[39mraise\u001b[39;00m NoOpenAiApiKeyException()\n\u001b[1;32m     24\u001b[0m \u001b[39mself\u001b[39m\u001b[39m.\u001b[39mopenai \u001b[39m=\u001b[39m OpenAI(api_key\u001b[39m=\u001b[39mopenai_api_key)\n",
      "\u001b[0;31mNoOpenAiApiKeyException\u001b[0m: \nPlease set an OpenAI API key.\n\nSee https://docs.athina.ai/evals/quick_start for more info.\n"
     ]
    }
   ],
   "source": [
    "# Your inference call to OpenAI\n",
    "model = \"gpt-3.5-turbo\"\n",
    "query = \"What is a shooting star?\"\n",
    "context = \"Black holes are stars that have collapsed under their own gravity. They are so dense that nothing can escape their gravitational pull, not even light.\"\n",
    "prompt = [\n",
    "    {\n",
    "        \"role\": \"system\",\n",
    "        \"content\": f\"Use the information provided to you to answer the user's question. Information: {context}\"\n",
    "    },\n",
    "    {\n",
    "        \"role\": \"user\",\n",
    "        \"content\": query\n",
    "    }\n",
    "]\n",
    "\n",
    "openai_service = OpenAiService()\n",
    "# response = openai_service.chat_completion(prompt, model=model)\n",
    "response = \"A shooting star, also known as a meteor, is not related to black holes. It is a small piece of space debris, such as a rock or dust particle, that enters Earth's atmosphere and burns up due to friction with the air. This creates a streak of light in the sky, which is commonly referred to as a shooting star.\"\n",
    "\n",
    "print(response)"
   ]
  },
  {
   "cell_type": "code",
   "execution_count": null,
   "metadata": {},
   "outputs": [],
   "source": [
    "# Run the answer relevance evaluator\n",
    "# Checks if the LLM response answers the user query sufficiently\n",
    "DoesResponseAnswerQuery(model=\"gpt-3.5-turbo\").run(query=query, response=response)"
   ]
  },
  {
   "cell_type": "code",
   "execution_count": null,
   "metadata": {},
   "outputs": [],
   "source": [
    "# Run the faithfulness evaluator\n",
    "# Checks if the LLM response is faithful to the information provided to it\n",
    "Faithfulness().run(context=context, response=response)"
   ]
  },
  {
   "cell_type": "code",
   "execution_count": null,
   "metadata": {},
   "outputs": [],
   "source": [
    "# Run the ContextContainsEnoughInformation evaluator\n",
    "# Checks if the context contains enough information to answer the user query provided\n",
    "ContextContainsEnoughInformation(model=\"gpt-4\").run(context=context, query=query)"
   ]
  },
  {
   "cell_type": "code",
   "execution_count": null,
   "metadata": {},
   "outputs": [],
   "source": [
    "# custom evaluator\n",
    "# Checks if the response mentions black holes\n",
    "grading_criteria=\"If the response mentions black holes, then fail. Otherwise pass.\"\n",
    "CustomGrader(grading_criteria=grading_criteria).run(context=context, query=query, response=response)"
   ]
  }
 ],
 "metadata": {
  "kernelspec": {
   "display_name": ".venv",
   "language": "python",
   "name": "python3"
  },
  "language_info": {
   "codemirror_mode": {
    "name": "ipython",
    "version": 3
   },
   "file_extension": ".py",
   "mimetype": "text/x-python",
   "name": "python",
   "nbconvert_exporter": "python",
   "pygments_lexer": "ipython3",
   "version": "3.9.16"
  }
 },
 "nbformat": 4,
 "nbformat_minor": 2
}
