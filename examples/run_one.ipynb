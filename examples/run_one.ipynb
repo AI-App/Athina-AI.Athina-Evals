{
 "cells": [
  {
   "cell_type": "code",
   "execution_count": 1,
   "metadata": {},
   "outputs": [],
   "source": [
    "import os\n",
    "from athina.llms.openai_service import OpenAiService\n",
    "from athina.evals import DoesResponseAnswerQuery, ContextContainsEnoughInformation, Faithfulness, CustomGrader\n",
    "from athina.evals.llm.custom.evaluator import CustomLlmEval\n",
    "from athina.evals.llm.faithfulness.examples import FAITHFULNESS_EVAL_EXAMPLES\n",
    "from athina.keys import AthinaApiKey, OpenAiApiKey\n",
    "\n",
    "OpenAiApiKey.set_key(os.getenv('OPENAI_API_KEY'))\n",
    "# AthinaApiKey.set_key(os.getenv('ATHINA_API_KEY'))"
   ]
  },
  {
   "cell_type": "code",
   "execution_count": 2,
   "metadata": {},
   "outputs": [],
   "source": [
    "# user query\n",
    "query = \"What is a shooting star?\"\n",
    "\n",
    "# retrieved context - BAD\n",
    "context = \"A shooting star is a small piece of space debris, such as a rock or dust particle, that enters Earth's atmosphere and burns up due to friction with the air. This creates a streak of light in the sky, which is commonly referred to as a shooting star.\"\n",
    "\n",
    "# Your inference call to OpenAI\n",
    "# model = \"gpt-3.5-turbo\"\n",
    "# prompt = [\n",
    "#     {\n",
    "#         \"role\": \"system\",\n",
    "#         \"content\": f\"Use the information provided to you to answer the user's question. Information: {context}\"\n",
    "#     },\n",
    "#     {\n",
    "#         \"role\": \"user\",\n",
    "#         \"content\": query\n",
    "#     }\n",
    "# ]\n",
    "# openai_service = OpenAiService()\n",
    "# response = openai_service.chat_completion(prompt, model=model)\n",
    "\n",
    "response = \"A shooting star is a small piece of space debris, such as a rock or dust particle, that enters Earth's atmosphere and burns up due to friction with the air. This creates a streak of light in the sky, which is commonly referred to as a shooting star.\""
   ]
  },
  {
   "cell_type": "code",
   "execution_count": 3,
   "metadata": {},
   "outputs": [],
   "source": [
    "# evaluation parameters\n",
    "eval_model = \"gpt-3.5-turbo\""
   ]
  },
  {
   "cell_type": "code",
   "execution_count": 4,
   "metadata": {},
   "outputs": [
    {
     "data": {
      "text/plain": [
       "{'eval_request_id': [],\n",
       " 'eval_results': [{'name': 'Draq',\n",
       "   'display_name': 'Does Response Answer Query',\n",
       "   'data': {'query': 'What is a shooting star?',\n",
       "    'response': \"A shooting star is a small piece of space debris, such as a rock or dust particle, that enters Earth's atmosphere and burns up due to friction with the air. This creates a streak of light in the sky, which is commonly referred to as a shooting star.\"},\n",
       "   'failure': False,\n",
       "   'reason': \"The response answers the user's query sufficiently. It provides a clear and concise explanation of what a shooting star is, including the fact that it is a small piece of space debris that enters Earth's atmosphere and burns up due to friction with the air, creating a streak of light in the sky.\",\n",
       "   'runtime': 3048,\n",
       "   'model': 'gpt-3.5-turbo',\n",
       "   'metric': {'id': 'failed', 'value': 0.0}}]}"
      ]
     },
     "execution_count": 4,
     "metadata": {},
     "output_type": "execute_result"
    }
   ],
   "source": [
    "# Run the answer relevance evaluator\n",
    "# Checks if the LLM response answers the user query sufficiently\n",
    "DoesResponseAnswerQuery().run(query=query, response=response)"
   ]
  },
  {
   "cell_type": "code",
   "execution_count": 5,
   "metadata": {},
   "outputs": [
    {
     "data": {
      "text/plain": [
       "{'eval_request_id': [],\n",
       " 'eval_results': [{'name': 'Irftc',\n",
       "   'display_name': 'Faithfulness',\n",
       "   'data': {'context': \"A shooting star is a small piece of space debris, such as a rock or dust particle, that enters Earth's atmosphere and burns up due to friction with the air. This creates a streak of light in the sky, which is commonly referred to as a shooting star.\",\n",
       "    'response': \"A shooting star is a small piece of space debris, such as a rock or dust particle, that enters Earth's atmosphere and burns up due to friction with the air. This creates a streak of light in the sky, which is commonly referred to as a shooting star.\"},\n",
       "   'failure': False,\n",
       "   'reason': 'The response can be directly inferred from the context as it is an exact repetition of the information provided. The context defines what a shooting star is and the response repeats that definition verbatim.',\n",
       "   'runtime': 3171,\n",
       "   'model': 'gpt-4-1106-preview',\n",
       "   'metric': {'id': 'failed', 'value': 0.0}}]}"
      ]
     },
     "execution_count": 5,
     "metadata": {},
     "output_type": "execute_result"
    }
   ],
   "source": [
    "# Run the faithfulness evaluator\n",
    "# Checks if the LLM response is faithful to the information provided to it\n",
    "Faithfulness().run(context=context, response=response)"
   ]
  },
  {
   "cell_type": "code",
   "execution_count": 6,
   "metadata": {},
   "outputs": [
    {
     "data": {
      "text/plain": [
       "{'eval_request_id': [],\n",
       " 'eval_results': [{'name': 'Ccei',\n",
       "   'display_name': 'Context Contains Enough Information',\n",
       "   'data': {'context': \"A shooting star is a small piece of space debris, such as a rock or dust particle, that enters Earth's atmosphere and burns up due to friction with the air. This creates a streak of light in the sky, which is commonly referred to as a shooting star.\",\n",
       "    'query': 'What is a shooting star?'},\n",
       "   'failure': False,\n",
       "   'reason': \"The context provided contains sufficient information to answer the user's query about what a shooting star is. It explains that a shooting star is not actually a star, but rather a small piece of space debris that burns up upon entering Earth's atmosphere, resulting in a visible streak of light in the sky. This directly addresses the user's question.\",\n",
       "   'runtime': 15258,\n",
       "   'model': 'gpt-4-1106-preview',\n",
       "   'metric': {'id': 'failed', 'value': 0.0}}]}"
      ]
     },
     "execution_count": 6,
     "metadata": {},
     "output_type": "execute_result"
    }
   ],
   "source": [
    "# Run the ContextContainsEnoughInformation evaluator\n",
    "# Checks if the context contains enough information to answer the user query provided\n",
    "ContextContainsEnoughInformation(model=eval_model).run(context=context, query=query)"
   ]
  },
  {
   "cell_type": "code",
   "execution_count": 7,
   "metadata": {},
   "outputs": [
    {
     "data": {
      "text/plain": [
       "{'eval_request_id': [],\n",
       " 'eval_results': [{'name': 'Custom',\n",
       "   'display_name': 'Custom',\n",
       "   'data': {'context': \"A shooting star is a small piece of space debris, such as a rock or dust particle, that enters Earth's atmosphere and burns up due to friction with the air. This creates a streak of light in the sky, which is commonly referred to as a shooting star.\",\n",
       "    'query': 'What is a shooting star?',\n",
       "    'response': \"A shooting star is a small piece of space debris, such as a rock or dust particle, that enters Earth's atmosphere and burns up due to friction with the air. This creates a streak of light in the sky, which is commonly referred to as a shooting star.\"},\n",
       "   'failure': False,\n",
       "   'reason': 'The response does not mention black holes and therefore passes according to the grading criteria.',\n",
       "   'runtime': 2796,\n",
       "   'model': 'gpt-4-1106-preview',\n",
       "   'metric': {'id': 'failed', 'value': 0.0}}]}"
      ]
     },
     "execution_count": 7,
     "metadata": {},
     "output_type": "execute_result"
    }
   ],
   "source": [
    "# custom evaluator\n",
    "# Checks if the response mentions black holes\n",
    "grading_criteria=\"If the response mentions black holes, then fail. Otherwise pass.\"\n",
    "CustomGrader(grading_criteria=grading_criteria).run(context=context, query=query, response=response)"
   ]
  }
 ],
 "metadata": {
  "kernelspec": {
   "display_name": ".venv",
   "language": "python",
   "name": "python3"
  },
  "language_info": {
   "codemirror_mode": {
    "name": "ipython",
    "version": 3
   },
   "file_extension": ".py",
   "mimetype": "text/x-python",
   "name": "python",
   "nbconvert_exporter": "python",
   "pygments_lexer": "ipython3",
   "version": "3.9.16"
  }
 },
 "nbformat": 4,
 "nbformat_minor": 2
}
