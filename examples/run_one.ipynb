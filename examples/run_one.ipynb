{
 "cells": [
  {
   "cell_type": "code",
   "execution_count": 1,
   "metadata": {},
   "outputs": [],
   "source": [
    "import os\n",
    "from athina.llms.openai_service import OpenAiService\n",
    "from athina.evals import DoesResponseAnswerQuery, ContextContainsEnoughInformation, Faithfulness, CustomGrader\n",
    "from athina.keys import AthinaApiKey, OpenAiApiKey\n",
    "\n",
    "OpenAiApiKey.set_key(os.getenv('OPENAI_API_KEY'))\n",
    "AthinaApiKey.set_key(os.getenv('ATHINA_API_KEY'))"
   ]
  },
  {
   "cell_type": "code",
   "execution_count": 2,
   "metadata": {},
   "outputs": [
    {
     "name": "stdout",
     "output_type": "stream",
     "text": [
      "A shooting star, also known as a meteor, is not related to black holes. It is a small piece of space debris, such as a rock or dust particle, that enters Earth's atmosphere and burns up due to friction with the air. This creates a streak of light in the sky, which is commonly referred to as a shooting star.\n"
     ]
    }
   ],
   "source": [
    "# Your inference call to OpenAI\n",
    "model = \"gpt-3.5-turbo\"\n",
    "\n",
    "# user query\n",
    "query = \"What is a shooting star?\"\n",
    "\n",
    "# retrieved context - BAD\n",
    "context = \"Black holes are stars that have collapsed under their own gravity. They are so dense that nothing can escape their gravitational pull, not even light.\"\n",
    "\n",
    "prompt = [\n",
    "    {\n",
    "        \"role\": \"system\",\n",
    "        \"content\": f\"Use the information provided to you to answer the user's question. Information: {context}\"\n",
    "    },\n",
    "    {\n",
    "        \"role\": \"user\",\n",
    "        \"content\": query\n",
    "    }\n",
    "]\n",
    "\n",
    "openai_service = OpenAiService()\n",
    "# response = openai_service.chat_completion(prompt, model=model)\n",
    "\n",
    "response = \"A shooting star is a small piece of space debris, such as a rock or dust particle, that enters Earth's atmosphere and burns up due to friction with the air. This creates a streak of light in the sky, which is commonly referred to as a shooting star.\"\n",
    "\n",
    "print(response)"
   ]
  },
  {
   "cell_type": "code",
   "execution_count": 3,
   "metadata": {},
   "outputs": [
    {
     "data": {
      "text/plain": [
       "{'name': 'does_response_answer_query',\n",
       " 'data': {'query': 'What is a shooting star?',\n",
       "  'response': \"A shooting star, also known as a meteor, is not related to black holes. It is a small piece of space debris, such as a rock or dust particle, that enters Earth's atmosphere and burns up due to friction with the air. This creates a streak of light in the sky, which is commonly referred to as a shooting star.\"},\n",
       " 'failure': False,\n",
       " 'reason': \"The response answers specifically what the user is asking about and covers all aspects of the user's query. It explains that a shooting star is a small piece of space debris that enters Earth's atmosphere and burns up, creating a streak of light in the sky.\",\n",
       " 'runtime': 2464,\n",
       " 'model': 'gpt-3.5-turbo'}"
      ]
     },
     "execution_count": 3,
     "metadata": {},
     "output_type": "execute_result"
    }
   ],
   "source": [
    "# Run the answer relevance evaluator\n",
    "# Checks if the LLM response answers the user query sufficiently\n",
    "DoesResponseAnswerQuery(model=\"gpt-3.5-turbo\").run(query=query, response=response)"
   ]
  },
  {
   "cell_type": "code",
   "execution_count": 4,
   "metadata": {},
   "outputs": [
    {
     "data": {
      "text/plain": [
       "{'name': 'faithfulness',\n",
       " 'data': {'context': 'Black holes are stars that have collapsed under their own gravity. They are so dense that nothing can escape their gravitational pull, not even light.',\n",
       "  'response': \"A shooting star, also known as a meteor, is not related to black holes. It is a small piece of space debris, such as a rock or dust particle, that enters Earth's atmosphere and burns up due to friction with the air. This creates a streak of light in the sky, which is commonly referred to as a shooting star.\"},\n",
       " 'failure': True,\n",
       " 'reason': \"The response cannot be inferred from the provided context. The context only describes black holes and their properties. It does not provide any information about shooting stars or meteors, their composition, or their behavior when entering Earth's atmosphere.\",\n",
       " 'runtime': 4225,\n",
       " 'model': 'gpt-4-1106-preview'}"
      ]
     },
     "execution_count": 4,
     "metadata": {},
     "output_type": "execute_result"
    }
   ],
   "source": [
    "# Run the faithfulness evaluator\n",
    "# Checks if the LLM response is faithful to the information provided to it\n",
    "Faithfulness().run(context=context, response=response)"
   ]
  },
  {
   "cell_type": "code",
   "execution_count": 5,
   "metadata": {},
   "outputs": [
    {
     "data": {
      "text/plain": [
       "{'name': 'context_contains_enough_information',\n",
       " 'data': {'context': 'Black holes are stars that have collapsed under their own gravity. They are so dense that nothing can escape their gravitational pull, not even light.',\n",
       "  'query': 'What is a shooting star?'},\n",
       " 'failure': True,\n",
       " 'reason': \"The context provided talks about black holes, not shooting stars. Therefore, it does not contain sufficient information to answer the user's query about what a shooting star is.\",\n",
       " 'runtime': 5282,\n",
       " 'model': 'gpt-4'}"
      ]
     },
     "execution_count": 5,
     "metadata": {},
     "output_type": "execute_result"
    }
   ],
   "source": [
    "# Run the ContextContainsEnoughInformation evaluator\n",
    "# Checks if the context contains enough information to answer the user query provided\n",
    "ContextContainsEnoughInformation(model=\"gpt-4\").run(context=context, query=query)"
   ]
  },
  {
   "cell_type": "code",
   "execution_count": 6,
   "metadata": {},
   "outputs": [
    {
     "data": {
      "text/plain": [
       "{'name': 'custom_grader',\n",
       " 'data': {'context': 'Black holes are stars that have collapsed under their own gravity. They are so dense that nothing can escape their gravitational pull, not even light.',\n",
       "  'query': 'What is a shooting star?',\n",
       "  'response': \"A shooting star, also known as a meteor, is not related to black holes. It is a small piece of space debris, such as a rock or dust particle, that enters Earth's atmosphere and burns up due to friction with the air. This creates a streak of light in the sky, which is commonly referred to as a shooting star.\"},\n",
       " 'failure': True,\n",
       " 'reason': 'The response mentions black holes, which according to the grading criteria, results in a fail.',\n",
       " 'runtime': 2367,\n",
       " 'model': 'gpt-4-1106-preview'}"
      ]
     },
     "execution_count": 6,
     "metadata": {},
     "output_type": "execute_result"
    }
   ],
   "source": [
    "# custom evaluator\n",
    "# Checks if the response mentions black holes\n",
    "grading_criteria=\"If the response mentions black holes, then fail. Otherwise pass.\"\n",
    "CustomGrader(grading_criteria=grading_criteria).run(context=context, query=query, response=response)"
   ]
  }
 ],
 "metadata": {
  "kernelspec": {
   "display_name": ".venv",
   "language": "python",
   "name": "python3"
  },
  "language_info": {
   "codemirror_mode": {
    "name": "ipython",
    "version": 3
   },
   "file_extension": ".py",
   "mimetype": "text/x-python",
   "name": "python",
   "nbconvert_exporter": "python",
   "pygments_lexer": "ipython3",
   "version": "3.9.16"
  }
 },
 "nbformat": 4,
 "nbformat_minor": 2
}
