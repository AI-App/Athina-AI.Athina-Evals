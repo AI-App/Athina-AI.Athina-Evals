{
 "cells": [
  {
   "cell_type": "code",
   "execution_count": 1,
   "metadata": {},
   "outputs": [],
   "source": [
    "import os\n",
    "from athina.evals import DoesResponseAnswerQuery\n",
    "from athina.loaders import RagLoader\n",
    "from athina.interfaces.athina import AthinaFilters\n",
    "from athina.keys import AthinaApiKey, OpenAiApiKey\n",
    "\n",
    "OpenAiApiKey.set_key(os.getenv('OPENAI_API_KEY'))\n",
    "AthinaApiKey.set_key(os.getenv('ATHINA_API_KEY'))"
   ]
  },
  {
   "cell_type": "markdown",
   "metadata": {},
   "source": [
    "### Loading Data from Athina\n",
    "\n",
    "Loading data from Athina is an easy way to use your logged inferences or production data as your eval dataset.\n",
    "\n",
    "Here's how you can load data from Athina."
   ]
  },
  {
   "cell_type": "code",
   "execution_count": 2,
   "metadata": {},
   "outputs": [],
   "source": [
    "# Simplest way to load Athina Inferences data\n",
    "# By default, this will load 10 inferences\n",
    "data = RagLoader().load_athina_inferences()"
   ]
  },
  {
   "cell_type": "code",
   "execution_count": 3,
   "metadata": {},
   "outputs": [],
   "source": [
    "# (Optional) Add filters to load only specific data\n",
    "data = RagLoader().load_athina_inferences(\n",
    "    filters=AthinaFilters(\n",
    "        prompt_slug=\"yc_query\",\n",
    "        language_model_id=\"gpt-3.5-turbo\",\n",
    "        environment=\"production\"\n",
    "    ),\n",
    "    limit=10\n",
    ")"
   ]
  },
  {
   "cell_type": "code",
   "execution_count": 4,
   "metadata": {},
   "outputs": [
    {
     "name": "stdout",
     "output_type": "stream",
     "text": [
      "Loaded data from 1 inferences\n",
      "data [{'query': 'can i raise money from other investors as well?', 'context': \"{'information': 'the company money now but at the terms you will negotiate with other investors later.\\\\n\\\\nBoth investments happen at the same time; they are not contingent on any milestones.\\\\n\\\\nWhat can I use the YC inves'}\", 'response': 'Yes.'}]\n"
     ]
    }
   ],
   "source": [
    "# Print the dataset loaded from logged Athina inferences\n",
    "print(f\"Loaded data from {len(data)} inferences\")\n",
    "print('data', data)"
   ]
  },
  {
   "cell_type": "code",
   "execution_count": 5,
   "metadata": {},
   "outputs": [
    {
     "data": {
      "text/plain": [
       "[{'name': 'does_response_answer_query',\n",
       "  'data': {'query': 'can i raise money from other investors as well?',\n",
       "   'context': \"{'information': 'the company money now but at the terms you will negotiate with other investors later.\\\\n\\\\nBoth investments happen at the same time; they are not contingent on any milestones.\\\\n\\\\nWhat can I use the YC inves'}\",\n",
       "   'response': 'Yes.'},\n",
       "  'failure': True,\n",
       "  'reason': \"The response 'Yes.' is affirmative but does not cover all aspects of the user's query. It does not provide any additional information or context regarding how one might raise money from other investors, what considerations there might be, or any potential limitations or requirements. The user's query implies a need for more detailed information, which the response does not provide.\",\n",
       "  'runtime': 6649,\n",
       "  'model': 'gpt-4-1106-preview'}]"
      ]
     },
     "execution_count": 5,
     "metadata": {},
     "output_type": "execute_result"
    }
   ],
   "source": [
    "# Run evaluators\n",
    "DoesResponseAnswerQuery().run_batch(data)"
   ]
  }
 ],
 "metadata": {
  "kernelspec": {
   "display_name": ".venv",
   "language": "python",
   "name": "python3"
  },
  "language_info": {
   "codemirror_mode": {
    "name": "ipython",
    "version": 3
   },
   "file_extension": ".py",
   "mimetype": "text/x-python",
   "name": "python",
   "nbconvert_exporter": "python",
   "pygments_lexer": "ipython3",
   "version": "3.9.16"
  }
 },
 "nbformat": 4,
 "nbformat_minor": 2
}
