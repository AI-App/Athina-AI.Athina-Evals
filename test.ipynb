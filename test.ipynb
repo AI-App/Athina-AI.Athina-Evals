{
 "cells": [
  {
   "cell_type": "code",
   "execution_count": 1,
   "metadata": {},
   "outputs": [],
   "source": [
    "from typing import List, Optional\n",
    "\n",
    "def run_batch(list_of_dicts: List[dict], key: str = 'a') -> Optional[int]:\n",
    "    \"\"\"\n",
    "    Iterates over a list of dictionaries, yielding the value of a specified key in each dictionary.\n",
    "    If the key is not found, yields None.\n",
    "\n",
    "    Parameters:\n",
    "    list_of_dicts (List[dict]): A list of dictionaries to process.\n",
    "    key (str): The key to extract from each dictionary.\n",
    "\n",
    "    Returns:\n",
    "    Optional[int]: The value associated with the key or None if the key is not found.\n",
    "    \"\"\"\n",
    "    for entry in list_of_dicts:\n",
    "        try:\n",
    "            yield entry[key]\n",
    "        except KeyError:\n",
    "            yield None\n",
    "\n",
    "list_of_args = [\n",
    "    {\"a\": 1, \"b\": 2},\n",
    "    {\"a\": 3, \"b\": 4},\n",
    "    {\"c\": 3, \"d\": 4},\n",
    "]\n",
    "\n",
    "results = list(run_batch(list_of_args))"
   ]
  },
  {
   "cell_type": "code",
   "execution_count": 2,
   "metadata": {},
   "outputs": [
    {
     "name": "stdout",
     "output_type": "stream",
     "text": [
      "[1, 3, None]\n"
     ]
    }
   ],
   "source": [
    "print(results)"
   ]
  },
  {
   "cell_type": "code",
   "execution_count": null,
   "metadata": {},
   "outputs": [],
   "source": []
  }
 ],
 "metadata": {
  "kernelspec": {
   "display_name": ".venv",
   "language": "python",
   "name": "python3"
  },
  "language_info": {
   "codemirror_mode": {
    "name": "ipython",
    "version": 3
   },
   "file_extension": ".py",
   "mimetype": "text/x-python",
   "name": "python",
   "nbconvert_exporter": "python",
   "pygments_lexer": "ipython3",
   "version": "3.9.16"
  }
 },
 "nbformat": 4,
 "nbformat_minor": 2
}
